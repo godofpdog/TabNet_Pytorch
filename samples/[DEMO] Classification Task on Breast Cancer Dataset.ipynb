{
 "cells": [
  {
   "cell_type": "code",
   "execution_count": null,
   "metadata": {},
   "outputs": [],
   "source": []
  },
  {
   "cell_type": "code",
   "execution_count": 2,
   "metadata": {},
   "outputs": [],
   "source": [
    "import sys\n",
    "sys.path.append('../')"
   ]
  },
  {
   "cell_type": "code",
   "execution_count": 4,
   "metadata": {},
   "outputs": [],
   "source": [
    "from tabnet.estimator import TabNetClassifier\n",
    "from sklearn.datasets import load_breast_cancer\n",
    "from sklearn.model_selection import train_test_split"
   ]
  },
  {
   "cell_type": "code",
   "execution_count": 5,
   "metadata": {},
   "outputs": [
    {
     "name": "stdout",
     "output_type": "stream",
     "text": [
      "(569, 30)\n",
      "(569,)\n"
     ]
    }
   ],
   "source": [
    "X, y = load_breast_cancer(return_X_y=True)\n",
    "\n",
    "print(X.shape)\n",
    "print(y.shape)"
   ]
  },
  {
   "cell_type": "code",
   "execution_count": 6,
   "metadata": {},
   "outputs": [],
   "source": [
    "tabnet = TabNetClassifier(\n",
    "    input_dims=30, output_dims=[1], logger=None, is_cuda=False,\n",
    "    reprs_dims=8, atten_dims=4, num_steps=3, num_indep=1, num_shared=1\n",
    ")"
   ]
  },
  {
   "cell_type": "code",
   "execution_count": 7,
   "metadata": {},
   "outputs": [
    {
     "data": {
      "text/plain": [
       "TabNetClassifier(atten_dims=4, batch_size=1024, cate_dims=None,\n",
       "                 cate_embed_dims=1, cate_indices=None, criterions=None,\n",
       "                 gamma=1.3, input_dims=30, is_cuda=False, is_shuffle=True,\n",
       "                 logger=None, mask_type='sparsemax', momentum=0.03, num_indep=1,\n",
       "                 num_shared=1, num_steps=3, num_workers=4, output_dims=[1],\n",
       "                 pin_memory=True, reprs_dims=8, task_weights=1,\n",
       "                 virtual_batch_size=128)"
      ]
     },
     "execution_count": 7,
     "metadata": {},
     "output_type": "execute_result"
    }
   ],
   "source": [
    "tabnet.build(path=None)"
   ]
  },
  {
   "cell_type": "code",
   "execution_count": 8,
   "metadata": {},
   "outputs": [
    {
     "name": "stdout",
     "output_type": "stream",
     "text": [
      "InferenceModel(\n",
      "  (embedding_encoder): EmbeddingEncoder()\n",
      "  (tabnet_encoder): TabNetEncoder(\n",
      "    (input_bn): BatchNorm1d(30, eps=1e-05, momentum=0.03, affine=True, track_running_stats=True)\n",
      "    (input_splitter): FeatureTransformer(\n",
      "      (shared_block): FeatureBlock(\n",
      "        (shared_layers): ModuleList(\n",
      "          (0): Linear(in_features=30, out_features=24, bias=False)\n",
      "        )\n",
      "        (glu_blocks): ModuleList(\n",
      "          (0): GLUBlock(\n",
      "            (fc): Linear(in_features=30, out_features=24, bias=False)\n",
      "            (gbn): GhostBatchNorm(\n",
      "              (bn): BatchNorm1d(24, eps=1e-05, momentum=0.03, affine=True, track_running_stats=True)\n",
      "            )\n",
      "          )\n",
      "        )\n",
      "      )\n",
      "      (indep_block): FeatureBlock(\n",
      "        (glu_blocks): ModuleList(\n",
      "          (0): GLUBlock(\n",
      "            (fc): Linear(in_features=12, out_features=24, bias=False)\n",
      "            (gbn): GhostBatchNorm(\n",
      "              (bn): BatchNorm1d(24, eps=1e-05, momentum=0.03, affine=True, track_running_stats=True)\n",
      "            )\n",
      "          )\n",
      "        )\n",
      "      )\n",
      "    )\n",
      "    (feats_transformers): ModuleList(\n",
      "      (0): FeatureTransformer(\n",
      "        (shared_block): FeatureBlock(\n",
      "          (shared_layers): ModuleList(\n",
      "            (0): Linear(in_features=30, out_features=24, bias=False)\n",
      "          )\n",
      "          (glu_blocks): ModuleList(\n",
      "            (0): GLUBlock(\n",
      "              (fc): Linear(in_features=30, out_features=24, bias=False)\n",
      "              (gbn): GhostBatchNorm(\n",
      "                (bn): BatchNorm1d(24, eps=1e-05, momentum=0.03, affine=True, track_running_stats=True)\n",
      "              )\n",
      "            )\n",
      "          )\n",
      "        )\n",
      "        (indep_block): FeatureBlock(\n",
      "          (glu_blocks): ModuleList(\n",
      "            (0): GLUBlock(\n",
      "              (fc): Linear(in_features=12, out_features=24, bias=False)\n",
      "              (gbn): GhostBatchNorm(\n",
      "                (bn): BatchNorm1d(24, eps=1e-05, momentum=0.03, affine=True, track_running_stats=True)\n",
      "              )\n",
      "            )\n",
      "          )\n",
      "        )\n",
      "      )\n",
      "      (1): FeatureTransformer(\n",
      "        (shared_block): FeatureBlock(\n",
      "          (shared_layers): ModuleList(\n",
      "            (0): Linear(in_features=30, out_features=24, bias=False)\n",
      "          )\n",
      "          (glu_blocks): ModuleList(\n",
      "            (0): GLUBlock(\n",
      "              (fc): Linear(in_features=30, out_features=24, bias=False)\n",
      "              (gbn): GhostBatchNorm(\n",
      "                (bn): BatchNorm1d(24, eps=1e-05, momentum=0.03, affine=True, track_running_stats=True)\n",
      "              )\n",
      "            )\n",
      "          )\n",
      "        )\n",
      "        (indep_block): FeatureBlock(\n",
      "          (glu_blocks): ModuleList(\n",
      "            (0): GLUBlock(\n",
      "              (fc): Linear(in_features=12, out_features=24, bias=False)\n",
      "              (gbn): GhostBatchNorm(\n",
      "                (bn): BatchNorm1d(24, eps=1e-05, momentum=0.03, affine=True, track_running_stats=True)\n",
      "              )\n",
      "            )\n",
      "          )\n",
      "        )\n",
      "      )\n",
      "      (2): FeatureTransformer(\n",
      "        (shared_block): FeatureBlock(\n",
      "          (shared_layers): ModuleList(\n",
      "            (0): Linear(in_features=30, out_features=24, bias=False)\n",
      "          )\n",
      "          (glu_blocks): ModuleList(\n",
      "            (0): GLUBlock(\n",
      "              (fc): Linear(in_features=30, out_features=24, bias=False)\n",
      "              (gbn): GhostBatchNorm(\n",
      "                (bn): BatchNorm1d(24, eps=1e-05, momentum=0.03, affine=True, track_running_stats=True)\n",
      "              )\n",
      "            )\n",
      "          )\n",
      "        )\n",
      "        (indep_block): FeatureBlock(\n",
      "          (glu_blocks): ModuleList(\n",
      "            (0): GLUBlock(\n",
      "              (fc): Linear(in_features=12, out_features=24, bias=False)\n",
      "              (gbn): GhostBatchNorm(\n",
      "                (bn): BatchNorm1d(24, eps=1e-05, momentum=0.03, affine=True, track_running_stats=True)\n",
      "              )\n",
      "            )\n",
      "          )\n",
      "        )\n",
      "      )\n",
      "    )\n",
      "    (atten_transformers): ModuleList(\n",
      "      (0): AttentiveTransformer(\n",
      "        (fc): Linear(in_features=4, out_features=30, bias=False)\n",
      "        (gbn): GhostBatchNorm(\n",
      "          (bn): BatchNorm1d(30, eps=1e-05, momentum=0.03, affine=True, track_running_stats=True)\n",
      "        )\n",
      "        (selector): Sparsemax()\n",
      "      )\n",
      "      (1): AttentiveTransformer(\n",
      "        (fc): Linear(in_features=4, out_features=30, bias=False)\n",
      "        (gbn): GhostBatchNorm(\n",
      "          (bn): BatchNorm1d(30, eps=1e-05, momentum=0.03, affine=True, track_running_stats=True)\n",
      "        )\n",
      "        (selector): Sparsemax()\n",
      "      )\n",
      "      (2): AttentiveTransformer(\n",
      "        (fc): Linear(in_features=4, out_features=30, bias=False)\n",
      "        (gbn): GhostBatchNorm(\n",
      "          (bn): BatchNorm1d(30, eps=1e-05, momentum=0.03, affine=True, track_running_stats=True)\n",
      "        )\n",
      "        (selector): Sparsemax()\n",
      "      )\n",
      "    )\n",
      "  )\n",
      "  (tabnet_head): TabNetHead(\n",
      "    (heads): ModuleList(\n",
      "      (0): Linear(in_features=8, out_features=1, bias=False)\n",
      "    )\n",
      "  )\n",
      ")\n"
     ]
    }
   ],
   "source": [
    "tabnet.show_model()"
   ]
  },
  {
   "cell_type": "code",
   "execution_count": 6,
   "metadata": {},
   "outputs": [],
   "source": [
    "from torch.optim import Adam\n",
    "from torch.optim import lr_scheduler\n",
    "\n",
    "\n",
    "training_params = {\n",
    "    'batch_size': 512,\n",
    "    'max_epochs': 200,\n",
    "    'metrics': ['acc'],\n",
    "    'optimizer': Adam,\n",
    "    'optimizer_params': {'lr': 0.2},\n",
    "    'schedulers': [lr_scheduler.ExponentialLR],\n",
    "    'scheduler_params': {'gamma': 0.99}\n",
    "}\n"
   ]
  },
  {
   "cell_type": "code",
   "execution_count": 7,
   "metadata": {},
   "outputs": [
    {
     "data": {
      "text/plain": [
       "TabNetClassifier(atten_dims=4, batch_size=512, cate_dims=None,\n",
       "                 cate_embed_dims=1, cate_indices=None, criterions=None,\n",
       "                 gamma=1.3, input_dims=30, is_cuda=False, is_shuffle=True,\n",
       "                 logger=None, mask_type='sparsemax', momentum=0.03, num_indep=1,\n",
       "                 num_shared=1, num_steps=3, num_workers=4, output_dims=[1],\n",
       "                 pin_memory=True, reprs_dims=8, task_weights=1,\n",
       "                 virtual_batch_size=128)"
      ]
     },
     "execution_count": 7,
     "metadata": {},
     "output_type": "execute_result"
    }
   ],
   "source": [
    "tabnet.fit(X, y.reshape(-1, 1), **training_params)"
   ]
  },
  {
   "cell_type": "code",
   "execution_count": 8,
   "metadata": {},
   "outputs": [],
   "source": [
    "importance, masks = tabnet.explain(X)"
   ]
  },
  {
   "cell_type": "code",
   "execution_count": 9,
   "metadata": {},
   "outputs": [
    {
     "data": {
      "text/plain": [
       "30"
      ]
     },
     "execution_count": 9,
     "metadata": {},
     "output_type": "execute_result"
    }
   ],
   "source": [
    "feature_names = [\n",
    "    'mean radius',\n",
    "     'mean texture',\n",
    "     'mean perimeter',\n",
    "     'mean area',\n",
    "     'mean smoothness',\n",
    "     'mean compactness',\n",
    "     'mean concavity',\n",
    "     'mean concave points',\n",
    "     'mean symmetry',\n",
    "     'mean fractal dimension',\n",
    "     'radius error',\n",
    "     'texture error',\n",
    "     'perimeter error',\n",
    "     'area error',\n",
    "     'smoothness error',\n",
    "     'compactness error',\n",
    "     'concavity error',\n",
    "     'concave points error',\n",
    "     'symmetry error',\n",
    "     'fractal dimension error',\n",
    "     'worst radius',\n",
    "     'worst texture',\n",
    "     'worst perimeter',\n",
    "     'worst area',\n",
    "     'worst smoothness',\n",
    "     'worst compactness',\n",
    "     'worst concavity',\n",
    "     'worst concave points',\n",
    "     'worst symmetry',\n",
    "     'worst fractal dimension'\n",
    "]\n",
    "len(feature_names)"
   ]
  },
  {
   "cell_type": "code",
   "execution_count": 11,
   "metadata": {},
   "outputs": [],
   "source": [
    "import matplotlib.pyplot as plt"
   ]
  },
  {
   "cell_type": "code",
   "execution_count": 12,
   "metadata": {},
   "outputs": [
    {
     "data": {
      "image/png": "[encoded data removed]",
      "text/plain": [
       "<Figure size 1800x1800 with 4 Axes>"
      ]
     },
     "metadata": {
      "needs_background": "light"
     },
     "output_type": "display_data"
    }
   ],
   "source": [
    "fig, axs = plt.subplots(1, 4, figsize=(25,25))\n",
    "\n",
    "for i in range(3):\n",
    "    axs[i].imshow(masks[i].cpu().numpy()[:20])\n",
    "    axs[i].set_xlabel('features')\n",
    "    axs[i].set_ylabel('samples')\n",
    "    axs[i].set_title(f\"mask {i}\")\n",
    "    axs[i].set_yticks(range(20))\n",
    "    axs[i].set_xticks(range(30))\n",
    "    axs[i].set_xticklabels(feature_names, rotation=90)\n",
    "\n",
    "axs[3].imshow(importance.cpu().numpy()[:20, :])\n",
    "axs[3].set_xlabel('features')\n",
    "axs[3].set_ylabel('samples')\n",
    "axs[3].set_title('importance')\n",
    "axs[3].set_yticks(range(20))\n",
    "axs[3].set_xticks(range(30))\n",
    "axs[3].set_xticklabels(feature_names, rotation=90)\n",
    "plt.show()"
   ]
  },
  {
   "cell_type": "code",
   "execution_count": 1,
   "metadata": {},
   "outputs": [
    {
     "ename": "NameError",
     "evalue": "name 'tabnet' is not defined",
     "output_type": "error",
     "traceback": [
      "\u001b[1;31m---------------------------------------------------------------------------\u001b[0m",
      "\u001b[1;31mNameError\u001b[0m                                 Traceback (most recent call last)",
      "\u001b[1;32m<ipython-input-1-396f65725399>\u001b[0m in \u001b[0;36m<module>\u001b[1;34m\u001b[0m\n\u001b[1;32m----> 1\u001b[1;33m \u001b[0mtabnet\u001b[0m\u001b[1;33m.\u001b[0m\u001b[0mshow_model\u001b[0m\u001b[1;33m(\u001b[0m\u001b[1;33m)\u001b[0m\u001b[1;33m\u001b[0m\u001b[1;33m\u001b[0m\u001b[0m\n\u001b[0m",
      "\u001b[1;31mNameError\u001b[0m: name 'tabnet' is not defined"
     ]
    }
   ],
   "source": [
    "tabnet.show_model()"
   ]
  },
  {
   "cell_type": "code",
   "execution_count": 16,
   "metadata": {},
   "outputs": [
    {
     "data": {
      "text/plain": [
       "(569, 30)"
      ]
     },
     "execution_count": 16,
     "metadata": {},
     "output_type": "execute_result"
    }
   ],
   "source": [
    "X.shape"
   ]
  },
  {
   "cell_type": "code",
   "execution_count": null,
   "metadata": {},
   "outputs": [],
   "source": []
  }
 ],
 "metadata": {
  "kernelspec": {
   "display_name": "Python 3",
   "language": "python",
   "name": "python3"
  },
  "language_info": {
   "codemirror_mode": {
    "name": "ipython",
    "version": 3
   },
   "file_extension": ".py",
   "mimetype": "text/x-python",
   "name": "python",
   "nbconvert_exporter": "python",
   "pygments_lexer": "ipython3",
   "version": "3.7.6"
  }
 },
 "nbformat": 4,
 "nbformat_minor": 4
}
