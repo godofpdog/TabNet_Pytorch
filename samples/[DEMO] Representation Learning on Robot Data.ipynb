{
 "cells": [
  {
   "cell_type": "code",
   "execution_count": 1,
   "metadata": {},
   "outputs": [],
   "source": [
    "import sys\n",
    "sys.path.append('../')"
   ]
  },
  {
   "cell_type": "markdown",
   "metadata": {},
   "source": [
    "## Import packages"
   ]
  },
  {
   "cell_type": "code",
   "execution_count": 2,
   "metadata": {},
   "outputs": [],
   "source": [
    "from sklearn.datasets import load_breast_cancer\n",
    "from tabnet.estimator import TabNetClassifier\n",
    "from tabnet.utils.logger import init_logger"
   ]
  },
  {
   "cell_type": "markdown",
   "metadata": {},
   "source": [
    "## Init logger"
   ]
  },
  {
   "cell_type": "code",
   "execution_count": 3,
   "metadata": {},
   "outputs": [],
   "source": [
    "logger_dir = 'logs'\n",
    "logger_name = 'TestRegression'\n",
    "level = 'INFO'\n",
    "\n",
    "logger = init_logger(logger_dir=logger_dir, logger_name=logger_name, level=level)"
   ]
  },
  {
   "cell_type": "markdown",
   "metadata": {},
   "source": [
    "## Load data"
   ]
  },
  {
   "cell_type": "code",
   "execution_count": 4,
   "metadata": {},
   "outputs": [
    {
     "name": "stdout",
     "output_type": "stream",
     "text": [
      "(569, 30)\n",
      "(569,)\n"
     ]
    }
   ],
   "source": [
    "X, y = load_breast_cancer(return_X_y=True)\n",
    "\n",
    "print(X.shape)\n",
    "print(y.shape)"
   ]
  },
  {
   "cell_type": "markdown",
   "metadata": {},
   "source": [
    "## Init estimator"
   ]
  },
  {
   "cell_type": "code",
   "execution_count": 5,
   "metadata": {},
   "outputs": [
    {
     "name": "stderr",
     "output_type": "stream",
     "text": [
      "[2021-02-20 10:16:36,272][WARNING][TabNet] Failed to load model from None\n"
     ]
    },
    {
     "data": {
      "text/plain": [
       "TabNetClassifier(atten_dims=4, batch_size=512, input_dims=30, is_cuda=True,\n",
       "                 logger=<RootLogger root (INFO)>, num_indep=1, num_shared=1,\n",
       "                 num_steps=4, output_dims=[1], reprs_dims=4,\n",
       "                 virtual_batch_size=256)"
      ]
     },
     "execution_count": 5,
     "metadata": {},
     "output_type": "execute_result"
    }
   ],
   "source": [
    "tabnet_classifier = TabNetClassifier(\n",
    "    input_dims=30, output_dims=[1], logger=logger, is_cuda=True,\n",
    "    reprs_dims=4, atten_dims=4, num_steps=4, num_indep=1, num_shared=1, \n",
    "    virtual_batch_size=256, batch_size=512\n",
    ")\n",
    "\n",
    "tabnet_classifier.build(path=None)"
   ]
  },
  {
   "cell_type": "markdown",
   "metadata": {},
   "source": [
    "## Setup training parameters"
   ]
  },
  {
   "cell_type": "code",
   "execution_count": 6,
   "metadata": {},
   "outputs": [],
   "source": [
    "from torch.optim import Adam\n",
    "from torch.optim import lr_scheduler\n",
    "\n",
    "training_params = {\n",
    "    'batch_size': 512,\n",
    "    'max_epochs': 200,\n",
    "    'optimizer': Adam,\n",
    "    'optimizer_params': {'lr': 0.2},\n",
    "    'schedulers': [lr_scheduler.ExponentialLR],\n",
    "    'scheduler_params': {'gamma': 0.99}\n",
    "}"
   ]
  },
  {
   "cell_type": "markdown",
   "metadata": {},
   "source": [
    "## Start training"
   ]
  },
  {
   "cell_type": "code",
   "execution_count": null,
   "metadata": {},
   "outputs": [
    {
     "name": "stderr",
     "output_type": "stream",
     "text": [
      "[2021-02-20 10:16:36,310][INFO][TabNet] Convert to pretrain model.\n",
      "[2021-02-20 10:16:36,312][INFO][TabNet] start training.\n",
      "[2021-02-20 10:16:36,312][INFO][TabNet] ******************** epoch : 0 ********************\n",
      "[2021-02-20 10:16:41,337][INFO][TabNet] -------------------- train info --------------------\n",
      "[2021-02-20 10:16:41,338][INFO][TabNet] total_loss : 6160.04833984375\n",
      "[2021-02-20 10:16:41,339][INFO][TabNet] task_loss : 6160.046875\n",
      "[2021-02-20 10:16:41,340][INFO][TabNet] mask_loss : -1.2503468990325928\n",
      "[2021-02-20 10:16:41,341][INFO][TabNet] time_cost : 0.933852\n",
      "[2021-02-20 10:16:41,341][INFO][TabNet] ******************** epoch : 1 ********************\n",
      "[2021-02-20 10:16:45,446][INFO][TabNet] -------------------- train info --------------------\n",
      "[2021-02-20 10:16:45,447][INFO][TabNet] total_loss : 1830.2628173828125\n",
      "[2021-02-20 10:16:45,447][INFO][TabNet] task_loss : 1830.2618408203125\n",
      "[2021-02-20 10:16:45,448][INFO][TabNet] mask_loss : -0.9323570728302002\n",
      "[2021-02-20 10:16:45,449][INFO][TabNet] time_cost : 0.070195\n",
      "[2021-02-20 10:16:45,449][INFO][TabNet] ******************** epoch : 2 ********************\n",
      "[2021-02-20 10:16:49,545][INFO][TabNet] -------------------- train info --------------------\n",
      "[2021-02-20 10:16:49,547][INFO][TabNet] total_loss : 1740.9427490234375\n",
      "[2021-02-20 10:16:49,548][INFO][TabNet] task_loss : 1740.94189453125\n",
      "[2021-02-20 10:16:49,549][INFO][TabNet] mask_loss : -0.812544047832489\n",
      "[2021-02-20 10:16:49,549][INFO][TabNet] time_cost : 0.056847\n",
      "[2021-02-20 10:16:49,550][INFO][TabNet] ******************** epoch : 3 ********************\n",
      "[2021-02-20 10:16:53,655][INFO][TabNet] -------------------- train info --------------------\n",
      "[2021-02-20 10:16:53,656][INFO][TabNet] total_loss : 881.0082397460938\n",
      "[2021-02-20 10:16:53,657][INFO][TabNet] task_loss : 881.007568359375\n",
      "[2021-02-20 10:16:53,658][INFO][TabNet] mask_loss : -0.6975442171096802\n",
      "[2021-02-20 10:16:53,659][INFO][TabNet] time_cost : 0.057845\n",
      "[2021-02-20 10:16:53,659][INFO][TabNet] ******************** epoch : 4 ********************\n",
      "[2021-02-20 10:16:57,758][INFO][TabNet] -------------------- train info --------------------\n",
      "[2021-02-20 10:16:57,759][INFO][TabNet] total_loss : 583.4440307617188\n",
      "[2021-02-20 10:16:57,760][INFO][TabNet] task_loss : 583.443359375\n",
      "[2021-02-20 10:16:57,761][INFO][TabNet] mask_loss : -0.6704315543174744\n",
      "[2021-02-20 10:16:57,761][INFO][TabNet] time_cost : 0.056876\n",
      "[2021-02-20 10:16:57,762][INFO][TabNet] ******************** epoch : 5 ********************\n",
      "[2021-02-20 10:17:01,861][INFO][TabNet] -------------------- train info --------------------\n",
      "[2021-02-20 10:17:01,862][INFO][TabNet] total_loss : 524.5611572265625\n",
      "[2021-02-20 10:17:01,862][INFO][TabNet] task_loss : 524.560546875\n",
      "[2021-02-20 10:17:01,863][INFO][TabNet] mask_loss : -0.6171435713768005\n",
      "[2021-02-20 10:17:01,864][INFO][TabNet] time_cost : 0.064824\n",
      "[2021-02-20 10:17:01,864][INFO][TabNet] ******************** epoch : 6 ********************\n",
      "[2021-02-20 10:17:05,962][INFO][TabNet] -------------------- train info --------------------\n",
      "[2021-02-20 10:17:05,963][INFO][TabNet] total_loss : 453.48175048828125\n",
      "[2021-02-20 10:17:05,963][INFO][TabNet] task_loss : 453.48114013671875\n",
      "[2021-02-20 10:17:05,964][INFO][TabNet] mask_loss : -0.6219313144683838\n",
      "[2021-02-20 10:17:05,964][INFO][TabNet] time_cost : 0.057057\n",
      "[2021-02-20 10:17:05,965][INFO][TabNet] ******************** epoch : 7 ********************\n",
      "[2021-02-20 10:17:10,063][INFO][TabNet] -------------------- train info --------------------\n",
      "[2021-02-20 10:17:10,064][INFO][TabNet] total_loss : 298.22265625\n",
      "[2021-02-20 10:17:10,064][INFO][TabNet] task_loss : 298.2220458984375\n",
      "[2021-02-20 10:17:10,065][INFO][TabNet] mask_loss : -0.5977138876914978\n",
      "[2021-02-20 10:17:10,065][INFO][TabNet] time_cost : 0.064828\n",
      "[2021-02-20 10:17:10,066][INFO][TabNet] ******************** epoch : 8 ********************\n"
     ]
    }
   ],
   "source": [
    "tabnet_classifier.pretrain(X, **training_params)"
   ]
  },
  {
   "cell_type": "code",
   "execution_count": null,
   "metadata": {},
   "outputs": [],
   "source": []
  },
  {
   "cell_type": "code",
   "execution_count": null,
   "metadata": {},
   "outputs": [],
   "source": [
    "# clustering dataset\n",
    "# determine k using elbow method\n",
    "\n",
    "from sklearn.cluster import KMeans\n",
    "from scipy.spatial.distance import cdist\n",
    "import numpy as np\n",
    "import matplotlib.pyplot as plt\n",
    "\n",
    "\n",
    "\n",
    "# k means determine k\n",
    "distortions = []\n",
    "K = range(1, 10)\n",
    "for k in K:\n",
    "    kmeanModel = KMeans(n_clusters=k).fit(emb)\n",
    "    distortions.append(sum(np.min(cdist(emb, kmeanModel.cluster_centers_, 'euclidean'), axis=1)) / X.shape[0])\n",
    "\n",
    "# Plot the elbow\n",
    "plt.plot(K, distortions, 'bx-')\n",
    "plt.xlabel('k')\n",
    "plt.ylabel('Distortion')\n",
    "plt.title('The Elbow Method showing the optimal k')\n",
    "plt.show()"
   ]
  }
 ],
 "metadata": {
  "kernelspec": {
   "display_name": "Python 3",
   "language": "python",
   "name": "python3"
  },
  "language_info": {
   "codemirror_mode": {
    "name": "ipython",
    "version": 3
   },
   "file_extension": ".py",
   "mimetype": "text/x-python",
   "name": "python",
   "nbconvert_exporter": "python",
   "pygments_lexer": "ipython3",
   "version": "3.7.6"
  }
 },
 "nbformat": 4,
 "nbformat_minor": 4
}
