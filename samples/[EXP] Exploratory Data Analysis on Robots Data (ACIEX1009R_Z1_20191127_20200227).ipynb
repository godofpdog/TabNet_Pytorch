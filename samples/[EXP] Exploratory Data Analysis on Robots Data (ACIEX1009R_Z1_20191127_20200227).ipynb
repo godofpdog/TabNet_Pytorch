{
 "cells": [
  {
   "cell_type": "code",
   "execution_count": 1,
   "metadata": {},
   "outputs": [],
   "source": [
    "import numpy as np \n",
    "import pandas as pd\n",
    "import matplotlib.pyplot as plt"
   ]
  },
  {
   "cell_type": "markdown",
   "metadata": {},
   "source": [
    "## Load Data"
   ]
  },
  {
   "cell_type": "code",
   "execution_count": 2,
   "metadata": {},
   "outputs": [],
   "source": [
    "data = pd.read_csv('D:/data/TabNet samples/robots/CAPIC304R_data.csv')"
   ]
  },
  {
   "cell_type": "code",
   "execution_count": 17,
   "metadata": {},
   "outputs": [
    {
     "data": {
      "text/plain": [
       "87303"
      ]
     },
     "execution_count": 17,
     "metadata": {},
     "output_type": "execute_result"
    }
   ],
   "source": [
    "len(data.groupby('STARTTIME'))"
   ]
  },
  {
   "cell_type": "markdown",
   "metadata": {},
   "source": [
    "## Prepare Data (to series)"
   ]
  },
  {
   "cell_type": "code",
   "execution_count": 30,
   "metadata": {},
   "outputs": [],
   "source": [
    "def prepare_data(input_df):\n",
    "    series_data = []\n",
    "    indices = np.where(input_df['POINT'].diff(1) < 0)[0]\n",
    "    \n",
    "    for i in range(len(indices) - 1):\n",
    "        if i == 0:\n",
    "            series = input_df.iloc[:indices[i], :]\n",
    "        else:\n",
    "            series = input_df.iloc[indices[i - 1]:indices[i], :]\n",
    "               \n",
    "        series_data.append(series)\n",
    "        \n",
    "    return series_data\n",
    "\n",
    "def plot_raw_data(df):\n",
    "    df = df.reset_index(drop=True)\n",
    "    fig, ax = plt.subplots(1, 2, figsize=(10, 2.5))\n",
    "\n",
    "    ax[0].plot(df['TORQUE'])\n",
    "    ax[0].set_title('Torque')\n",
    "    ax[0].grid()\n",
    "\n",
    "    ax[1].plot(df['SPEED'])\n",
    "    ax[1].set_title('Speed')\n",
    "    ax[1].grid()\n",
    "\n",
    "    plt.show()"
   ]
  },
  {
   "cell_type": "code",
   "execution_count": 24,
   "metadata": {},
   "outputs": [],
   "source": [
    "# prepared_data = prepare_data(data)\n",
    "prepared_data = list(data.groupby('STARTTIME'))"
   ]
  },
  {
   "cell_type": "code",
   "execution_count": 23,
   "metadata": {},
   "outputs": [
    {
     "data": {
      "text/plain": [
       "87301"
      ]
     },
     "execution_count": 23,
     "metadata": {},
     "output_type": "execute_result"
    }
   ],
   "source": [
    "len(prepared_data)"
   ]
  },
  {
   "cell_type": "code",
   "execution_count": 29,
   "metadata": {},
   "outputs": [
    {
     "data": {
      "text/html": [
       "<div>\n",
       "<style scoped>\n",
       "    .dataframe tbody tr th:only-of-type {\n",
       "        vertical-align: middle;\n",
       "    }\n",
       "\n",
       "    .dataframe tbody tr th {\n",
       "        vertical-align: top;\n",
       "    }\n",
       "\n",
       "    .dataframe thead th {\n",
       "        text-align: right;\n",
       "    }\n",
       "</style>\n",
       "<table border=\"1\" class=\"dataframe\">\n",
       "  <thead>\n",
       "    <tr style=\"text-align: right;\">\n",
       "      <th></th>\n",
       "      <th>Unnamed: 0</th>\n",
       "      <th>STARTTIME</th>\n",
       "      <th>CHAMBER</th>\n",
       "      <th>RECIPE</th>\n",
       "      <th>POINT</th>\n",
       "      <th>STEP_NAME</th>\n",
       "      <th>SPEED</th>\n",
       "      <th>TORQUE</th>\n",
       "    </tr>\n",
       "  </thead>\n",
       "  <tbody>\n",
       "    <tr>\n",
       "      <th>74</th>\n",
       "      <td>74</td>\n",
       "      <td>2019-06-22 13:21:21</td>\n",
       "      <td>AXI_2_Z1</td>\n",
       "      <td>CT150_175 MS-425_-450 U3</td>\n",
       "      <td>1</td>\n",
       "      <td>0</td>\n",
       "      <td>-5</td>\n",
       "      <td>272</td>\n",
       "    </tr>\n",
       "    <tr>\n",
       "      <th>75</th>\n",
       "      <td>75</td>\n",
       "      <td>2019-06-22 13:21:21</td>\n",
       "      <td>AXI_2_Z1</td>\n",
       "      <td>CT150_175 MS-425_-450 U3</td>\n",
       "      <td>2</td>\n",
       "      <td>0</td>\n",
       "      <td>-7</td>\n",
       "      <td>248</td>\n",
       "    </tr>\n",
       "    <tr>\n",
       "      <th>76</th>\n",
       "      <td>76</td>\n",
       "      <td>2019-06-22 13:21:21</td>\n",
       "      <td>AXI_2_Z1</td>\n",
       "      <td>CT150_175 MS-425_-450 U3</td>\n",
       "      <td>3</td>\n",
       "      <td>0</td>\n",
       "      <td>-11</td>\n",
       "      <td>262</td>\n",
       "    </tr>\n",
       "    <tr>\n",
       "      <th>77</th>\n",
       "      <td>77</td>\n",
       "      <td>2019-06-22 13:21:21</td>\n",
       "      <td>AXI_2_Z1</td>\n",
       "      <td>CT150_175 MS-425_-450 U3</td>\n",
       "      <td>4</td>\n",
       "      <td>0</td>\n",
       "      <td>-14</td>\n",
       "      <td>267</td>\n",
       "    </tr>\n",
       "    <tr>\n",
       "      <th>78</th>\n",
       "      <td>78</td>\n",
       "      <td>2019-06-22 13:21:21</td>\n",
       "      <td>AXI_2_Z1</td>\n",
       "      <td>CT150_175 MS-425_-450 U3</td>\n",
       "      <td>5</td>\n",
       "      <td>0</td>\n",
       "      <td>-17</td>\n",
       "      <td>253</td>\n",
       "    </tr>\n",
       "    <tr>\n",
       "      <th>...</th>\n",
       "      <td>...</td>\n",
       "      <td>...</td>\n",
       "      <td>...</td>\n",
       "      <td>...</td>\n",
       "      <td>...</td>\n",
       "      <td>...</td>\n",
       "      <td>...</td>\n",
       "      <td>...</td>\n",
       "    </tr>\n",
       "    <tr>\n",
       "      <th>239</th>\n",
       "      <td>239</td>\n",
       "      <td>2019-06-22 13:21:21</td>\n",
       "      <td>AXI_2_Z1</td>\n",
       "      <td>CT150_175 MS-425_-450 U3</td>\n",
       "      <td>166</td>\n",
       "      <td>2</td>\n",
       "      <td>-19</td>\n",
       "      <td>337</td>\n",
       "    </tr>\n",
       "    <tr>\n",
       "      <th>240</th>\n",
       "      <td>240</td>\n",
       "      <td>2019-06-22 13:21:21</td>\n",
       "      <td>AXI_2_Z1</td>\n",
       "      <td>CT150_175 MS-425_-450 U3</td>\n",
       "      <td>167</td>\n",
       "      <td>2</td>\n",
       "      <td>-16</td>\n",
       "      <td>342</td>\n",
       "    </tr>\n",
       "    <tr>\n",
       "      <th>241</th>\n",
       "      <td>241</td>\n",
       "      <td>2019-06-22 13:21:21</td>\n",
       "      <td>AXI_2_Z1</td>\n",
       "      <td>CT150_175 MS-425_-450 U3</td>\n",
       "      <td>168</td>\n",
       "      <td>2</td>\n",
       "      <td>-11</td>\n",
       "      <td>282</td>\n",
       "    </tr>\n",
       "    <tr>\n",
       "      <th>242</th>\n",
       "      <td>242</td>\n",
       "      <td>2019-06-22 13:21:21</td>\n",
       "      <td>AXI_2_Z1</td>\n",
       "      <td>CT150_175 MS-425_-450 U3</td>\n",
       "      <td>169</td>\n",
       "      <td>2</td>\n",
       "      <td>-9</td>\n",
       "      <td>327</td>\n",
       "    </tr>\n",
       "    <tr>\n",
       "      <th>243</th>\n",
       "      <td>243</td>\n",
       "      <td>2019-06-22 13:21:21</td>\n",
       "      <td>AXI_2_Z1</td>\n",
       "      <td>CT150_175 MS-425_-450 U3</td>\n",
       "      <td>170</td>\n",
       "      <td>2</td>\n",
       "      <td>-6</td>\n",
       "      <td>312</td>\n",
       "    </tr>\n",
       "  </tbody>\n",
       "</table>\n",
       "<p>170 rows × 8 columns</p>\n",
       "</div>"
      ],
      "text/plain": [
       "     Unnamed: 0            STARTTIME   CHAMBER                    RECIPE  \\\n",
       "74           74  2019-06-22 13:21:21  AXI_2_Z1  CT150_175 MS-425_-450 U3   \n",
       "75           75  2019-06-22 13:21:21  AXI_2_Z1  CT150_175 MS-425_-450 U3   \n",
       "76           76  2019-06-22 13:21:21  AXI_2_Z1  CT150_175 MS-425_-450 U3   \n",
       "77           77  2019-06-22 13:21:21  AXI_2_Z1  CT150_175 MS-425_-450 U3   \n",
       "78           78  2019-06-22 13:21:21  AXI_2_Z1  CT150_175 MS-425_-450 U3   \n",
       "..          ...                  ...       ...                       ...   \n",
       "239         239  2019-06-22 13:21:21  AXI_2_Z1  CT150_175 MS-425_-450 U3   \n",
       "240         240  2019-06-22 13:21:21  AXI_2_Z1  CT150_175 MS-425_-450 U3   \n",
       "241         241  2019-06-22 13:21:21  AXI_2_Z1  CT150_175 MS-425_-450 U3   \n",
       "242         242  2019-06-22 13:21:21  AXI_2_Z1  CT150_175 MS-425_-450 U3   \n",
       "243         243  2019-06-22 13:21:21  AXI_2_Z1  CT150_175 MS-425_-450 U3   \n",
       "\n",
       "     POINT  STEP_NAME  SPEED  TORQUE  \n",
       "74       1          0     -5     272  \n",
       "75       2          0     -7     248  \n",
       "76       3          0    -11     262  \n",
       "77       4          0    -14     267  \n",
       "78       5          0    -17     253  \n",
       "..     ...        ...    ...     ...  \n",
       "239    166          2    -19     337  \n",
       "240    167          2    -16     342  \n",
       "241    168          2    -11     282  \n",
       "242    169          2     -9     327  \n",
       "243    170          2     -6     312  \n",
       "\n",
       "[170 rows x 8 columns]"
      ]
     },
     "execution_count": 29,
     "metadata": {},
     "output_type": "execute_result"
    }
   ],
   "source": [
    "prepared_data[1][1]"
   ]
  },
  {
   "cell_type": "markdown",
   "metadata": {},
   "source": [
    "## Raw Data (time series)"
   ]
  },
  {
   "cell_type": "code",
   "execution_count": 33,
   "metadata": {
    "scrolled": true
   },
   "outputs": [],
   "source": [
    "# plot_raw_data(prepared_data[0])\n",
    "# plot_raw_data(prepared_data[1])\n",
    "# plot_raw_data(prepared_data[2])\n",
    "# plot_raw_data(prepared_data[3])\n",
    "# plot_raw_data(prepared_data[4])\n",
    "# plot_raw_data(prepared_data[5])"
   ]
  },
  {
   "cell_type": "code",
   "execution_count": 31,
   "metadata": {
    "scrolled": true
   },
   "outputs": [
    {
     "data": {
      "image/png": "[encoded data removed]",
      "text/plain": [
       "<Figure size 720x180 with 2 Axes>"
      ]
     },
     "metadata": {
      "needs_background": "light"
     },
     "output_type": "display_data"
    },
    {
     "data": {
      "image/png": "[encoded data removed]",
      "text/plain": [
       "<Figure size 720x180 with 2 Axes>"
      ]
     },
     "metadata": {
      "needs_background": "light"
     },
     "output_type": "display_data"
    },
    {
     "data": {
      "image/png": "[encoded data removed]",
      "text/plain": [
       "<Figure size 720x180 with 2 Axes>"
      ]
     },
     "metadata": {
      "needs_background": "light"
     },
     "output_type": "display_data"
    },
    {
     "data": {
      "image/png": "[encoded data removed]",
      "text/plain": [
       "<Figure size 720x180 with 2 Axes>"
      ]
     },
     "metadata": {
      "needs_background": "light"
     },
     "output_type": "display_data"
    },
    {
     "data": {
      "image/png": "[encoded data removed]",
      "text/plain": [
       "<Figure size 720x180 with 2 Axes>"
      ]
     },
     "metadata": {
      "needs_background": "light"
     },
     "output_type": "display_data"
    },
    {
     "data": {
      "image/png": "[encoded data removed]",
      "text/plain": [
       "<Figure size 720x180 with 2 Axes>"
      ]
     },
     "metadata": {
      "needs_background": "light"
     },
     "output_type": "display_data"
    }
   ],
   "source": [
    "plot_raw_data(prepared_data[0][1])\n",
    "plot_raw_data(prepared_data[1][1])\n",
    "plot_raw_data(prepared_data[2][1])\n",
    "plot_raw_data(prepared_data[3][1])\n",
    "plot_raw_data(prepared_data[4][1])\n",
    "plot_raw_data(prepared_data[5][1])"
   ]
  },
  {
   "cell_type": "markdown",
   "metadata": {},
   "source": [
    "## Statistics"
   ]
  },
  {
   "cell_type": "markdown",
   "metadata": {},
   "source": [
    "### by step"
   ]
  },
  {
   "cell_type": "code",
   "execution_count": 62,
   "metadata": {},
   "outputs": [],
   "source": [
    "# stats = {'SPEED': {}, 'TORQUE': {}}\n",
    "\n",
    "# for i in range(len(prepared_data)):\n",
    "#     stat = prepared_data[i][1].groupby('STEP_NAME')[['SPEED', 'TORQUE']].apply(np.mean)\n",
    "    \n",
    "#     for step in range(len(stat)):\n",
    "#         print(step)\n",
    "#         stats['SPEED'].setdefault(step, []).append(stat.iloc[step, :]['SPEED'])\n",
    "#         stats['TORQUE'].setdefault(step, []).append(stat.iloc[step, :]['TORQUE'])"
   ]
  },
  {
   "cell_type": "code",
   "execution_count": 61,
   "metadata": {},
   "outputs": [],
   "source": [
    "# pd.DataFrame(stats['SPEED'])"
   ]
  },
  {
   "cell_type": "code",
   "execution_count": 59,
   "metadata": {},
   "outputs": [
    {
     "data": {
      "text/plain": [
       "dict_keys([0, 1, 2])"
      ]
     },
     "execution_count": 59,
     "metadata": {},
     "output_type": "execute_result"
    }
   ],
   "source": [
    "stats['SPEED'].keys()"
   ]
  },
  {
   "cell_type": "code",
   "execution_count": 42,
   "metadata": {},
   "outputs": [
    {
     "data": {
      "text/plain": [
       "87303"
      ]
     },
     "execution_count": 42,
     "metadata": {},
     "output_type": "execute_result"
    }
   ],
   "source": [
    "len(prepared_data)"
   ]
  },
  {
   "cell_type": "markdown",
   "metadata": {},
   "source": [
    "#### mean"
   ]
  },
  {
   "cell_type": "code",
   "execution_count": 37,
   "metadata": {},
   "outputs": [
    {
     "data": {
      "text/html": [
       "<div>\n",
       "<style scoped>\n",
       "    .dataframe tbody tr th:only-of-type {\n",
       "        vertical-align: middle;\n",
       "    }\n",
       "\n",
       "    .dataframe tbody tr th {\n",
       "        vertical-align: top;\n",
       "    }\n",
       "\n",
       "    .dataframe thead th {\n",
       "        text-align: right;\n",
       "    }\n",
       "</style>\n",
       "<table border=\"1\" class=\"dataframe\">\n",
       "  <thead>\n",
       "    <tr style=\"text-align: right;\">\n",
       "      <th></th>\n",
       "      <th>SPEED</th>\n",
       "      <th>TORQUE</th>\n",
       "    </tr>\n",
       "    <tr>\n",
       "      <th>STEP_NAME</th>\n",
       "      <th></th>\n",
       "      <th></th>\n",
       "    </tr>\n",
       "  </thead>\n",
       "  <tbody>\n",
       "    <tr>\n",
       "      <th>0</th>\n",
       "      <td>-9.000000</td>\n",
       "      <td>280.750000</td>\n",
       "    </tr>\n",
       "    <tr>\n",
       "      <th>1</th>\n",
       "      <td>-25.454545</td>\n",
       "      <td>286.712121</td>\n",
       "    </tr>\n",
       "    <tr>\n",
       "      <th>2</th>\n",
       "      <td>-8.250000</td>\n",
       "      <td>299.500000</td>\n",
       "    </tr>\n",
       "  </tbody>\n",
       "</table>\n",
       "</div>"
      ],
      "text/plain": [
       "               SPEED      TORQUE\n",
       "STEP_NAME                       \n",
       "0          -9.000000  280.750000\n",
       "1         -25.454545  286.712121\n",
       "2          -8.250000  299.500000"
      ]
     },
     "execution_count": 37,
     "metadata": {},
     "output_type": "execute_result"
    }
   ],
   "source": [
    "prepared_data[0][1].groupby('STEP_NAME')[['SPEED', 'TORQUE']].apply(np.mean)"
   ]
  },
  {
   "cell_type": "code",
   "execution_count": 8,
   "metadata": {},
   "outputs": [
    {
     "data": {
      "text/html": [
       "<div>\n",
       "<style scoped>\n",
       "    .dataframe tbody tr th:only-of-type {\n",
       "        vertical-align: middle;\n",
       "    }\n",
       "\n",
       "    .dataframe tbody tr th {\n",
       "        vertical-align: top;\n",
       "    }\n",
       "\n",
       "    .dataframe thead th {\n",
       "        text-align: right;\n",
       "    }\n",
       "</style>\n",
       "<table border=\"1\" class=\"dataframe\">\n",
       "  <thead>\n",
       "    <tr style=\"text-align: right;\">\n",
       "      <th></th>\n",
       "      <th>SPEED</th>\n",
       "      <th>TORQUE</th>\n",
       "    </tr>\n",
       "    <tr>\n",
       "      <th>STEP_NAME</th>\n",
       "      <th></th>\n",
       "      <th></th>\n",
       "    </tr>\n",
       "  </thead>\n",
       "  <tbody>\n",
       "    <tr>\n",
       "      <th>0</th>\n",
       "      <td>-199.833333</td>\n",
       "      <td>135.033333</td>\n",
       "    </tr>\n",
       "    <tr>\n",
       "      <th>1</th>\n",
       "      <td>-424.649123</td>\n",
       "      <td>63.087719</td>\n",
       "    </tr>\n",
       "    <tr>\n",
       "      <th>2</th>\n",
       "      <td>-201.018868</td>\n",
       "      <td>267.283019</td>\n",
       "    </tr>\n",
       "  </tbody>\n",
       "</table>\n",
       "</div>"
      ],
      "text/plain": [
       "                SPEED      TORQUE\n",
       "STEP_NAME                        \n",
       "0         -199.833333  135.033333\n",
       "1         -424.649123   63.087719\n",
       "2         -201.018868  267.283019"
      ]
     },
     "execution_count": 8,
     "metadata": {},
     "output_type": "execute_result"
    }
   ],
   "source": [
    "prepared_data[1].groupby('STEP_NAME')[['SPEED', 'TORQUE']].apply(np.mean)"
   ]
  },
  {
   "cell_type": "code",
   "execution_count": 9,
   "metadata": {},
   "outputs": [
    {
     "data": {
      "text/html": [
       "<div>\n",
       "<style scoped>\n",
       "    .dataframe tbody tr th:only-of-type {\n",
       "        vertical-align: middle;\n",
       "    }\n",
       "\n",
       "    .dataframe tbody tr th {\n",
       "        vertical-align: top;\n",
       "    }\n",
       "\n",
       "    .dataframe thead th {\n",
       "        text-align: right;\n",
       "    }\n",
       "</style>\n",
       "<table border=\"1\" class=\"dataframe\">\n",
       "  <thead>\n",
       "    <tr style=\"text-align: right;\">\n",
       "      <th></th>\n",
       "      <th>SPEED</th>\n",
       "      <th>TORQUE</th>\n",
       "    </tr>\n",
       "    <tr>\n",
       "      <th>STEP_NAME</th>\n",
       "      <th></th>\n",
       "      <th></th>\n",
       "    </tr>\n",
       "  </thead>\n",
       "  <tbody>\n",
       "    <tr>\n",
       "      <th>0</th>\n",
       "      <td>-25.000000</td>\n",
       "      <td>275.222222</td>\n",
       "    </tr>\n",
       "    <tr>\n",
       "      <th>1</th>\n",
       "      <td>-60.956522</td>\n",
       "      <td>288.478261</td>\n",
       "    </tr>\n",
       "    <tr>\n",
       "      <th>2</th>\n",
       "      <td>-23.229508</td>\n",
       "      <td>298.065574</td>\n",
       "    </tr>\n",
       "  </tbody>\n",
       "</table>\n",
       "</div>"
      ],
      "text/plain": [
       "               SPEED      TORQUE\n",
       "STEP_NAME                       \n",
       "0         -25.000000  275.222222\n",
       "1         -60.956522  288.478261\n",
       "2         -23.229508  298.065574"
      ]
     },
     "execution_count": 9,
     "metadata": {},
     "output_type": "execute_result"
    }
   ],
   "source": [
    "prepared_data[2].groupby('STEP_NAME')[['SPEED', 'TORQUE']].apply(np.mean)"
   ]
  },
  {
   "cell_type": "markdown",
   "metadata": {},
   "source": [
    "#### std"
   ]
  },
  {
   "cell_type": "code",
   "execution_count": 10,
   "metadata": {},
   "outputs": [
    {
     "data": {
      "text/html": [
       "<div>\n",
       "<style scoped>\n",
       "    .dataframe tbody tr th:only-of-type {\n",
       "        vertical-align: middle;\n",
       "    }\n",
       "\n",
       "    .dataframe tbody tr th {\n",
       "        vertical-align: top;\n",
       "    }\n",
       "\n",
       "    .dataframe thead th {\n",
       "        text-align: right;\n",
       "    }\n",
       "</style>\n",
       "<table border=\"1\" class=\"dataframe\">\n",
       "  <thead>\n",
       "    <tr style=\"text-align: right;\">\n",
       "      <th></th>\n",
       "      <th>SPEED</th>\n",
       "      <th>TORQUE</th>\n",
       "    </tr>\n",
       "    <tr>\n",
       "      <th>STEP_NAME</th>\n",
       "      <th></th>\n",
       "      <th></th>\n",
       "    </tr>\n",
       "  </thead>\n",
       "  <tbody>\n",
       "    <tr>\n",
       "      <th>0</th>\n",
       "      <td>2.738613</td>\n",
       "      <td>15.155445</td>\n",
       "    </tr>\n",
       "    <tr>\n",
       "      <th>1</th>\n",
       "      <td>2.965365</td>\n",
       "      <td>23.873254</td>\n",
       "    </tr>\n",
       "    <tr>\n",
       "      <th>2</th>\n",
       "      <td>2.586020</td>\n",
       "      <td>8.291562</td>\n",
       "    </tr>\n",
       "  </tbody>\n",
       "</table>\n",
       "</div>"
      ],
      "text/plain": [
       "              SPEED     TORQUE\n",
       "STEP_NAME                     \n",
       "0          2.738613  15.155445\n",
       "1          2.965365  23.873254\n",
       "2          2.586020   8.291562"
      ]
     },
     "execution_count": 10,
     "metadata": {},
     "output_type": "execute_result"
    }
   ],
   "source": [
    "prepared_data[0].groupby('STEP_NAME')[['SPEED', 'TORQUE']].apply(np.std)"
   ]
  },
  {
   "cell_type": "code",
   "execution_count": 11,
   "metadata": {},
   "outputs": [
    {
     "data": {
      "text/html": [
       "<div>\n",
       "<style scoped>\n",
       "    .dataframe tbody tr th:only-of-type {\n",
       "        vertical-align: middle;\n",
       "    }\n",
       "\n",
       "    .dataframe tbody tr th {\n",
       "        vertical-align: top;\n",
       "    }\n",
       "\n",
       "    .dataframe thead th {\n",
       "        text-align: right;\n",
       "    }\n",
       "</style>\n",
       "<table border=\"1\" class=\"dataframe\">\n",
       "  <thead>\n",
       "    <tr style=\"text-align: right;\">\n",
       "      <th></th>\n",
       "      <th>SPEED</th>\n",
       "      <th>TORQUE</th>\n",
       "    </tr>\n",
       "    <tr>\n",
       "      <th>STEP_NAME</th>\n",
       "      <th></th>\n",
       "      <th></th>\n",
       "    </tr>\n",
       "  </thead>\n",
       "  <tbody>\n",
       "    <tr>\n",
       "      <th>0</th>\n",
       "      <td>132.082823</td>\n",
       "      <td>94.483150</td>\n",
       "    </tr>\n",
       "    <tr>\n",
       "      <th>1</th>\n",
       "      <td>3.075034</td>\n",
       "      <td>76.479164</td>\n",
       "    </tr>\n",
       "    <tr>\n",
       "      <th>2</th>\n",
       "      <td>132.504110</td>\n",
       "      <td>87.104660</td>\n",
       "    </tr>\n",
       "  </tbody>\n",
       "</table>\n",
       "</div>"
      ],
      "text/plain": [
       "                SPEED     TORQUE\n",
       "STEP_NAME                       \n",
       "0          132.082823  94.483150\n",
       "1            3.075034  76.479164\n",
       "2          132.504110  87.104660"
      ]
     },
     "execution_count": 11,
     "metadata": {},
     "output_type": "execute_result"
    }
   ],
   "source": [
    "prepared_data[1].groupby('STEP_NAME')[['SPEED', 'TORQUE']].apply(np.std)"
   ]
  },
  {
   "cell_type": "code",
   "execution_count": 12,
   "metadata": {},
   "outputs": [
    {
     "data": {
      "text/html": [
       "<div>\n",
       "<style scoped>\n",
       "    .dataframe tbody tr th:only-of-type {\n",
       "        vertical-align: middle;\n",
       "    }\n",
       "\n",
       "    .dataframe tbody tr th {\n",
       "        vertical-align: top;\n",
       "    }\n",
       "\n",
       "    .dataframe thead th {\n",
       "        text-align: right;\n",
       "    }\n",
       "</style>\n",
       "<table border=\"1\" class=\"dataframe\">\n",
       "  <thead>\n",
       "    <tr style=\"text-align: right;\">\n",
       "      <th></th>\n",
       "      <th>SPEED</th>\n",
       "      <th>TORQUE</th>\n",
       "    </tr>\n",
       "    <tr>\n",
       "      <th>STEP_NAME</th>\n",
       "      <th></th>\n",
       "      <th></th>\n",
       "    </tr>\n",
       "  </thead>\n",
       "  <tbody>\n",
       "    <tr>\n",
       "      <th>0</th>\n",
       "      <td>13.844373</td>\n",
       "      <td>17.466016</td>\n",
       "    </tr>\n",
       "    <tr>\n",
       "      <th>1</th>\n",
       "      <td>5.103096</td>\n",
       "      <td>26.827743</td>\n",
       "    </tr>\n",
       "    <tr>\n",
       "      <th>2</th>\n",
       "      <td>7.627374</td>\n",
       "      <td>26.721311</td>\n",
       "    </tr>\n",
       "  </tbody>\n",
       "</table>\n",
       "</div>"
      ],
      "text/plain": [
       "               SPEED     TORQUE\n",
       "STEP_NAME                      \n",
       "0          13.844373  17.466016\n",
       "1           5.103096  26.827743\n",
       "2           7.627374  26.721311"
      ]
     },
     "execution_count": 12,
     "metadata": {},
     "output_type": "execute_result"
    }
   ],
   "source": [
    "prepared_data[2].groupby('STEP_NAME')[['SPEED', 'TORQUE']].apply(np.std)"
   ]
  },
  {
   "cell_type": "code",
   "execution_count": null,
   "metadata": {},
   "outputs": [],
   "source": []
  },
  {
   "cell_type": "code",
   "execution_count": null,
   "metadata": {},
   "outputs": [],
   "source": []
  },
  {
   "cell_type": "code",
   "execution_count": 13,
   "metadata": {},
   "outputs": [
    {
     "ename": "NameError",
     "evalue": "name 'pp_data' is not defined",
     "output_type": "error",
     "traceback": [
      "\u001b[1;31m---------------------------------------------------------------------------\u001b[0m",
      "\u001b[1;31mNameError\u001b[0m                                 Traceback (most recent call last)",
      "\u001b[1;32m<ipython-input-13-421aea586feb>\u001b[0m in \u001b[0;36m<module>\u001b[1;34m\u001b[0m\n\u001b[1;32m----> 1\u001b[1;33m \u001b[0mpp_data\u001b[0m\u001b[1;33m[\u001b[0m\u001b[1;36m1\u001b[0m\u001b[1;33m]\u001b[0m\u001b[1;33m.\u001b[0m\u001b[0mgroupby\u001b[0m\u001b[1;33m(\u001b[0m\u001b[1;34m'STEP_NAME'\u001b[0m\u001b[1;33m)\u001b[0m\u001b[1;33m.\u001b[0m\u001b[0mget_group\u001b[0m\u001b[1;33m(\u001b[0m\u001b[1;36m0\u001b[0m\u001b[1;33m)\u001b[0m\u001b[1;33m\u001b[0m\u001b[1;33m\u001b[0m\u001b[0m\n\u001b[0m",
      "\u001b[1;31mNameError\u001b[0m: name 'pp_data' is not defined"
     ]
    }
   ],
   "source": [
    "pp_data[1].groupby('STEP_NAME').get_group(0)"
   ]
  },
  {
   "cell_type": "code",
   "execution_count": 67,
   "metadata": {},
   "outputs": [
    {
     "data": {
      "text/plain": [
       "3"
      ]
     },
     "execution_count": 67,
     "metadata": {},
     "output_type": "execute_result"
    }
   ],
   "source": [
    "len(prepared_data[1][1].groupby('STEP_NAME'))"
   ]
  },
  {
   "cell_type": "code",
   "execution_count": 65,
   "metadata": {},
   "outputs": [
    {
     "data": {
      "text/plain": [
       "0.9017684917042103"
      ]
     },
     "execution_count": 65,
     "metadata": {},
     "output_type": "execute_result"
    }
   ],
   "source": [
    "np.corrcoef(\n",
    "    prepared_data[1][1].groupby('STEP_NAME').get_group(0)['SPEED'],\n",
    "    prepared_data[1][1].groupby('STEP_NAME').get_group(0)['TORQUE']\n",
    ")[0, 1]"
   ]
  },
  {
   "cell_type": "code",
   "execution_count": null,
   "metadata": {},
   "outputs": [],
   "source": [
    "np.corrcoef(\n",
    "    pp_data[1].groupby('STEP_NAME').get_group(1)['SPEED'],\n",
    "    pp_data[1].groupby('STEP_NAME').get_group(1)['TORQUE']\n",
    ")"
   ]
  },
  {
   "cell_type": "code",
   "execution_count": null,
   "metadata": {},
   "outputs": [],
   "source": [
    "np.corrcoef(\n",
    "    pp_data[1].groupby('STEP_NAME').get_group(2)['SPEED'],\n",
    "    pp_data[1].groupby('STEP_NAME').get_group(2)['TORQUE']\n",
    ")"
   ]
  },
  {
   "cell_type": "code",
   "execution_count": 60,
   "metadata": {},
   "outputs": [
    {
     "ename": "NameError",
     "evalue": "name 'pp_data' is not defined",
     "output_type": "error",
     "traceback": [
      "\u001b[1;31m---------------------------------------------------------------------------\u001b[0m",
      "\u001b[1;31mNameError\u001b[0m                                 Traceback (most recent call last)",
      "\u001b[1;32m<ipython-input-60-b547014e1c18>\u001b[0m in \u001b[0;36m<module>\u001b[1;34m\u001b[0m\n\u001b[0;32m      2\u001b[0m     \u001b[1;34m'----------------------------------------\\n'\u001b[0m\u001b[1;33m,\u001b[0m\u001b[1;33m\u001b[0m\u001b[1;33m\u001b[0m\u001b[0m\n\u001b[0;32m      3\u001b[0m     np.corrcoef(\n\u001b[1;32m----> 4\u001b[1;33m     \u001b[0mpp_data\u001b[0m\u001b[1;33m[\u001b[0m\u001b[1;36m1\u001b[0m\u001b[1;33m]\u001b[0m\u001b[1;33m.\u001b[0m\u001b[0mgroupby\u001b[0m\u001b[1;33m(\u001b[0m\u001b[1;34m'STEP_NAME'\u001b[0m\u001b[1;33m)\u001b[0m\u001b[1;33m.\u001b[0m\u001b[0mget_group\u001b[0m\u001b[1;33m(\u001b[0m\u001b[1;36m0\u001b[0m\u001b[1;33m)\u001b[0m\u001b[1;33m[\u001b[0m\u001b[1;34m'SPEED'\u001b[0m\u001b[1;33m]\u001b[0m\u001b[1;33m,\u001b[0m\u001b[1;33m\u001b[0m\u001b[1;33m\u001b[0m\u001b[0m\n\u001b[0m\u001b[0;32m      5\u001b[0m     \u001b[0mpp_data\u001b[0m\u001b[1;33m[\u001b[0m\u001b[1;36m1\u001b[0m\u001b[1;33m]\u001b[0m\u001b[1;33m.\u001b[0m\u001b[0mgroupby\u001b[0m\u001b[1;33m(\u001b[0m\u001b[1;34m'STEP_NAME'\u001b[0m\u001b[1;33m)\u001b[0m\u001b[1;33m.\u001b[0m\u001b[0mget_group\u001b[0m\u001b[1;33m(\u001b[0m\u001b[1;36m0\u001b[0m\u001b[1;33m)\u001b[0m\u001b[1;33m[\u001b[0m\u001b[1;34m'TORQUE'\u001b[0m\u001b[1;33m]\u001b[0m\u001b[1;33m\u001b[0m\u001b[1;33m\u001b[0m\u001b[0m\n\u001b[0;32m      6\u001b[0m     )\n",
      "\u001b[1;31mNameError\u001b[0m: name 'pp_data' is not defined"
     ]
    }
   ],
   "source": [
    "print(\n",
    "    '----------------------------------------\\n',\n",
    "    np.corrcoef(\n",
    "    pp_data[1].groupby('STEP_NAME').get_group(0)['SPEED'],\n",
    "    pp_data[1].groupby('STEP_NAME').get_group(0)['TORQUE']\n",
    "    )\n",
    ")\n",
    "\n",
    "print(\n",
    "    '----------------------------------------\\n',\n",
    "    np.corrcoef(\n",
    "    pp_data[1].groupby('STEP_NAME').get_group(1)['SPEED'],\n",
    "    pp_data[1].groupby('STEP_NAME').get_group(1)['TORQUE']\n",
    "    )\n",
    ")\n",
    "\n",
    "print(\n",
    "    '----------------------------------------\\n',\n",
    "    np.corrcoef(\n",
    "    pp_data[1].groupby('STEP_NAME').get_group(2)['SPEED'],\n",
    "    pp_data[1].groupby('STEP_NAME').get_group(2)['TORQUE']\n",
    "    )\n",
    ")"
   ]
  },
  {
   "cell_type": "code",
   "execution_count": null,
   "metadata": {},
   "outputs": [],
   "source": [
    "print(\n",
    "    '----------------------------------------\\n',\n",
    "    np.corrcoef(\n",
    "    pp_data[2].groupby('STEP_NAME').get_group(0)['SPEED'],\n",
    "    pp_data[2].groupby('STEP_NAME').get_group(0)['TORQUE']\n",
    "    )\n",
    ")\n",
    "\n",
    "print(\n",
    "    '----------------------------------------\\n',\n",
    "    np.corrcoef(\n",
    "    pp_data[2].groupby('STEP_NAME').get_group(1)['SPEED'],\n",
    "    pp_data[2].groupby('STEP_NAME').get_group(1)['TORQUE']\n",
    "    )\n",
    ")\n",
    "\n",
    "print(\n",
    "    '----------------------------------------\\n',\n",
    "    np.corrcoef(\n",
    "    pp_data[2].groupby('STEP_NAME').get_group(2)['SPEED'],\n",
    "    pp_data[2].groupby('STEP_NAME').get_group(2)['TORQUE']\n",
    "    )\n",
    ")"
   ]
  },
  {
   "cell_type": "code",
   "execution_count": null,
   "metadata": {},
   "outputs": [],
   "source": [
    "print(\n",
    "    '----------------------------------------\\n',\n",
    "    np.corrcoef(\n",
    "    pp_data[3].groupby('STEP_NAME').get_group(0)['SPEED'],\n",
    "    pp_data[3].groupby('STEP_NAME').get_group(0)['TORQUE']\n",
    "    )\n",
    ")\n",
    "\n",
    "print(\n",
    "    '----------------------------------------\\n',\n",
    "    np.corrcoef(\n",
    "    pp_data[3].groupby('STEP_NAME').get_group(1)['SPEED'],\n",
    "    pp_data[3].groupby('STEP_NAME').get_group(1)['TORQUE']\n",
    "    )\n",
    ")\n",
    "\n",
    "print(\n",
    "    '----------------------------------------\\n',\n",
    "    np.corrcoef(\n",
    "    pp_data[3].groupby('STEP_NAME').get_group(2)['SPEED'],\n",
    "    pp_data[3].groupby('STEP_NAME').get_group(2)['TORQUE']\n",
    "    )\n",
    ")"
   ]
  },
  {
   "cell_type": "code",
   "execution_count": null,
   "metadata": {},
   "outputs": [],
   "source": [
    "print(\n",
    "    '----------------------------------------\\n',\n",
    "    np.corrcoef(\n",
    "    pp_data[4].groupby('STEP_NAME').get_group(0)['SPEED'],\n",
    "    pp_data[4].groupby('STEP_NAME').get_group(0)['TORQUE']\n",
    "    )\n",
    ")\n",
    "\n",
    "print(\n",
    "    '----------------------------------------\\n',\n",
    "    np.corrcoef(\n",
    "    pp_data[4].groupby('STEP_NAME').get_group(1)['SPEED'],\n",
    "    pp_data[4].groupby('STEP_NAME').get_group(1)['TORQUE']\n",
    "    )\n",
    ")\n",
    "\n",
    "print(\n",
    "    '----------------------------------------\\n',\n",
    "    np.corrcoef(\n",
    "    pp_data[4].groupby('STEP_NAME').get_group(2)['SPEED'],\n",
    "    pp_data[4].groupby('STEP_NAME').get_group(2)['TORQUE']\n",
    "    )\n",
    ")"
   ]
  },
  {
   "cell_type": "code",
   "execution_count": null,
   "metadata": {},
   "outputs": [],
   "source": []
  }
 ],
 "metadata": {
  "kernelspec": {
   "display_name": "Python 3",
   "language": "python",
   "name": "python3"
  },
  "language_info": {
   "codemirror_mode": {
    "name": "ipython",
    "version": 3
   },
   "file_extension": ".py",
   "mimetype": "text/x-python",
   "name": "python",
   "nbconvert_exporter": "python",
   "pygments_lexer": "ipython3",
   "version": "3.7.6"
  }
 },
 "nbformat": 4,
 "nbformat_minor": 4
}
