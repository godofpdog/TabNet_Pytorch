{
 "cells": [
  {
   "cell_type": "code",
   "execution_count": 1,
   "metadata": {},
   "outputs": [],
   "source": [
    "import sys\n",
    "sys.path.append('../')"
   ]
  },
  {
   "cell_type": "code",
   "execution_count": 2,
   "metadata": {},
   "outputs": [],
   "source": [
    "from tabnet.estimator import TabNetClassifier\n",
    "from tabnet.utils.logger import init_logger\n",
    "from sklearn.datasets import load_breast_cancer"
   ]
  },
  {
   "cell_type": "code",
   "execution_count": 3,
   "metadata": {},
   "outputs": [
    {
     "name": "stdout",
     "output_type": "stream",
     "text": [
      "(569, 30)\n",
      "(569,)\n"
     ]
    }
   ],
   "source": [
    "X, y = load_breast_cancer(return_X_y=True)\n",
    "\n",
    "print(X.shape)\n",
    "print(y.shape)"
   ]
  },
  {
   "cell_type": "code",
   "execution_count": 4,
   "metadata": {},
   "outputs": [],
   "source": [
    "logger_dir = 'logs'\n",
    "logger_name = 'TEST'\n",
    "level = 'INFO'\n",
    "\n",
    "logger = init_logger(logger_dir=logger_dir, logger_name=logger_name, level=level)"
   ]
  },
  {
   "cell_type": "code",
   "execution_count": 5,
   "metadata": {},
   "outputs": [
    {
     "name": "stderr",
     "output_type": "stream",
     "text": [
      "[2021-02-19 17:12:07,410][WARNING][TabNet] Failed to load model from None\n"
     ]
    },
    {
     "data": {
      "text/plain": [
       "TabNetClassifier(atten_dims=4, batch_size=1024, cate_dims=None,\n",
       "                 cate_embed_dims=1, cate_indices=None, criterions=None,\n",
       "                 gamma=1.3, input_dims=30, is_cuda=False, is_shuffle=True,\n",
       "                 logger=<RootLogger root (INFO)>, mask_type='sparsemax',\n",
       "                 momentum=0.03, num_indep=1, num_shared=1, num_steps=3,\n",
       "                 num_workers=4, output_dims=[1], pin_memory=True, reprs_dims=8,\n",
       "                 task_weights=1, virtual_batch_size=128)"
      ]
     },
     "execution_count": 5,
     "metadata": {},
     "output_type": "execute_result"
    }
   ],
   "source": [
    "tabnet_classifier = TabNetClassifier(\n",
    "    input_dims=30, output_dims=[1], logger=logger, is_cuda=False,\n",
    "    reprs_dims=8, atten_dims=4, num_steps=3, num_indep=1, num_shared=1\n",
    ")\n",
    "\n",
    "tabnet_classifier.build(path=None)"
   ]
  },
  {
   "cell_type": "code",
   "execution_count": null,
   "metadata": {},
   "outputs": [
    {
     "name": "stderr",
     "output_type": "stream",
     "text": [
      "[2021-02-19 17:12:07,429][INFO][TabNet] Convert to pretrain model.\n",
      "[2021-02-19 17:12:07,431][INFO][TabNet] use default optimizer\n",
      "[2021-02-19 17:12:07,433][INFO][TabNet] use default optimizer params\n"
     ]
    },
    {
     "name": "stdout",
     "output_type": "stream",
     "text": [
      "<tabnet.core._solver.TabNetPretrainer object at 0x00000205D8C49388>\n"
     ]
    },
    {
     "name": "stderr",
     "output_type": "stream",
     "text": [
      "[2021-02-19 17:12:07,440][INFO][TabNet] start training.\n"
     ]
    },
    {
     "name": "stdout",
     "output_type": "stream",
     "text": [
      "epoch =  0\n"
     ]
    },
    {
     "name": "stderr",
     "output_type": "stream",
     "text": [
      "[2021-02-19 17:12:07,445][INFO][TabNet] ******************** epoch : 0 ********************\n"
     ]
    },
    {
     "name": "stdout",
     "output_type": "stream",
     "text": [
      "8888888888888888888888888\n",
      "ddddddddddd\n",
      "======\n",
      "task_loss =  3590.605224609375\n",
      "mask_loss =  -1.265557050704956\n"
     ]
    },
    {
     "name": "stderr",
     "output_type": "stream",
     "text": [
      "[2021-02-19 17:12:12,965][INFO][TabNet] -------------------- train info --------------------\n",
      "[2021-02-19 17:12:12,974][INFO][TabNet] total_loss : 3590.6064453125\n",
      "[2021-02-19 17:12:12,976][INFO][TabNet] task_loss : 3590.605224609375\n",
      "[2021-02-19 17:12:12,978][INFO][TabNet] mask_loss : -1.265557050704956\n",
      "[2021-02-19 17:12:12,980][INFO][TabNet] time_cost : 0.130019\n"
     ]
    },
    {
     "name": "stdout",
     "output_type": "stream",
     "text": [
      "epoch =  1\n"
     ]
    },
    {
     "name": "stderr",
     "output_type": "stream",
     "text": [
      "[2021-02-19 17:12:12,984][INFO][TabNet] ******************** epoch : 1 ********************\n"
     ]
    },
    {
     "name": "stdout",
     "output_type": "stream",
     "text": [
      "8888888888888888888888888\n",
      "ddddddddddd\n",
      "======\n",
      "task_loss =  5460.12353515625\n",
      "mask_loss =  -1.2738460302352905\n"
     ]
    },
    {
     "name": "stderr",
     "output_type": "stream",
     "text": [
      "[2021-02-19 17:12:18,444][INFO][TabNet] -------------------- train info --------------------\n",
      "[2021-02-19 17:12:18,446][INFO][TabNet] total_loss : 5460.125\n",
      "[2021-02-19 17:12:18,447][INFO][TabNet] task_loss : 5460.12353515625\n",
      "[2021-02-19 17:12:18,449][INFO][TabNet] mask_loss : -1.2738460302352905\n",
      "[2021-02-19 17:12:18,451][INFO][TabNet] time_cost : 0.081003\n"
     ]
    },
    {
     "name": "stdout",
     "output_type": "stream",
     "text": [
      "epoch =  2\n"
     ]
    },
    {
     "name": "stderr",
     "output_type": "stream",
     "text": [
      "[2021-02-19 17:12:18,457][INFO][TabNet] ******************** epoch : 2 ********************\n"
     ]
    },
    {
     "name": "stdout",
     "output_type": "stream",
     "text": [
      "8888888888888888888888888\n",
      "ddddddddddd\n",
      "======\n",
      "task_loss =  6969.43017578125\n",
      "mask_loss =  -1.2498927116394043\n"
     ]
    },
    {
     "name": "stderr",
     "output_type": "stream",
     "text": [
      "[2021-02-19 17:12:23,973][INFO][TabNet] -------------------- train info --------------------\n",
      "[2021-02-19 17:12:23,975][INFO][TabNet] total_loss : 6969.431640625\n",
      "[2021-02-19 17:12:23,977][INFO][TabNet] task_loss : 6969.43017578125\n",
      "[2021-02-19 17:12:23,978][INFO][TabNet] mask_loss : -1.2498927116394043\n",
      "[2021-02-19 17:12:23,980][INFO][TabNet] time_cost : 0.071999\n"
     ]
    },
    {
     "name": "stdout",
     "output_type": "stream",
     "text": [
      "epoch =  3\n"
     ]
    },
    {
     "name": "stderr",
     "output_type": "stream",
     "text": [
      "[2021-02-19 17:12:23,986][INFO][TabNet] ******************** epoch : 3 ********************\n"
     ]
    },
    {
     "name": "stdout",
     "output_type": "stream",
     "text": [
      "8888888888888888888888888\n",
      "ddddddddddd\n",
      "======\n",
      "task_loss =  3230.461669921875\n",
      "mask_loss =  -1.2649866342544556\n"
     ]
    },
    {
     "name": "stderr",
     "output_type": "stream",
     "text": [
      "[2021-02-19 17:12:29,507][INFO][TabNet] -------------------- train info --------------------\n",
      "[2021-02-19 17:12:29,508][INFO][TabNet] total_loss : 3230.462890625\n",
      "[2021-02-19 17:12:29,509][INFO][TabNet] task_loss : 3230.461669921875\n",
      "[2021-02-19 17:12:29,510][INFO][TabNet] mask_loss : -1.2649866342544556\n",
      "[2021-02-19 17:12:29,512][INFO][TabNet] time_cost : 0.08298\n"
     ]
    },
    {
     "name": "stdout",
     "output_type": "stream",
     "text": [
      "epoch =  4\n"
     ]
    },
    {
     "name": "stderr",
     "output_type": "stream",
     "text": [
      "[2021-02-19 17:12:29,515][INFO][TabNet] ******************** epoch : 4 ********************\n"
     ]
    },
    {
     "name": "stdout",
     "output_type": "stream",
     "text": [
      "8888888888888888888888888\n",
      "ddddddddddd\n",
      "======\n",
      "task_loss =  4015.731201171875\n",
      "mask_loss =  -1.2809630632400513\n"
     ]
    },
    {
     "name": "stderr",
     "output_type": "stream",
     "text": [
      "[2021-02-19 17:12:35,043][INFO][TabNet] -------------------- train info --------------------\n",
      "[2021-02-19 17:12:35,045][INFO][TabNet] total_loss : 4015.732421875\n",
      "[2021-02-19 17:12:35,046][INFO][TabNet] task_loss : 4015.731201171875\n",
      "[2021-02-19 17:12:35,048][INFO][TabNet] mask_loss : -1.2809630632400513\n",
      "[2021-02-19 17:12:35,050][INFO][TabNet] time_cost : 0.065001\n"
     ]
    },
    {
     "name": "stdout",
     "output_type": "stream",
     "text": [
      "epoch =  5\n"
     ]
    },
    {
     "name": "stderr",
     "output_type": "stream",
     "text": [
      "[2021-02-19 17:12:35,053][INFO][TabNet] ******************** epoch : 5 ********************\n"
     ]
    },
    {
     "name": "stdout",
     "output_type": "stream",
     "text": [
      "8888888888888888888888888\n"
     ]
    }
   ],
   "source": [
    "tabnet_classifier.pretrain(X)"
   ]
  }
 ],
 "metadata": {
  "kernelspec": {
   "display_name": "Python 3",
   "language": "python",
   "name": "python3"
  },
  "language_info": {
   "codemirror_mode": {
    "name": "ipython",
    "version": 3
   },
   "file_extension": ".py",
   "mimetype": "text/x-python",
   "name": "python",
   "nbconvert_exporter": "python",
   "pygments_lexer": "ipython3",
   "version": "3.7.6"
  }
 },
 "nbformat": 4,
 "nbformat_minor": 4
}
