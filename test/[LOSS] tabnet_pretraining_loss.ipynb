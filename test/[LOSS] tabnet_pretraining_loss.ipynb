{
 "cells": [
  {
   "cell_type": "code",
   "execution_count": 1,
   "metadata": {},
   "outputs": [],
   "source": [
    "import sys\n",
    "sys.path.append('../')"
   ]
  },
  {
   "cell_type": "code",
   "execution_count": 2,
   "metadata": {},
   "outputs": [],
   "source": [
    "import torch \n",
    "from tabnet.criterions import TabNetPretrainingLoss\n",
    "from tabnet.core._models import BinaryMasker"
   ]
  },
  {
   "cell_type": "code",
   "execution_count": 3,
   "metadata": {},
   "outputs": [],
   "source": [
    "SAMPLE_SIZE = 1024\n",
    "BATCH_SIZE = 256\n",
    "FEATS_DIMS = 27\n",
    "MASK_RATE = 0.2"
   ]
  },
  {
   "cell_type": "markdown",
   "metadata": {},
   "source": [
    "## Prepare testing data"
   ]
  },
  {
   "cell_type": "code",
   "execution_count": 4,
   "metadata": {},
   "outputs": [
    {
     "name": "stdout",
     "output_type": "stream",
     "text": [
      "population_std :  torch.Size([27])\n",
      "batch_y :  torch.Size([256, 27])\n"
     ]
    }
   ],
   "source": [
    "total_X = torch.randn((SAMPLE_SIZE, FEATS_DIMS))\n",
    "batch_X = total_X[:BATCH_SIZE, ...]\n",
    "\n",
    "masker = BinaryMasker(MASK_RATE)\n",
    "batch_y, mask = masker(batch_X)\n",
    "\n",
    "population_std = torch.std(total_X, dim=0)\n",
    "print('population_std : ', population_std.size())\n",
    "print('batch_y : ', batch_y.size())"
   ]
  },
  {
   "cell_type": "markdown",
   "metadata": {},
   "source": [
    "## Initial the loss objects"
   ]
  },
  {
   "cell_type": "code",
   "execution_count": 5,
   "metadata": {},
   "outputs": [],
   "source": [
    "loss_with_populatioin_std = TabNetPretrainingLoss(population_std=population_std, epsilon=1e-9)\n",
    "loss_without_populatioin_std = TabNetPretrainingLoss(population_std=None, epsilon=1e-9)"
   ]
  },
  {
   "cell_type": "markdown",
   "metadata": {},
   "source": [
    "## Get loss values"
   ]
  },
  {
   "cell_type": "code",
   "execution_count": 6,
   "metadata": {},
   "outputs": [
    {
     "data": {
      "text/plain": [
       "1472.071044921875"
      ]
     },
     "execution_count": 6,
     "metadata": {},
     "output_type": "execute_result"
    }
   ],
   "source": [
    "float(loss_with_populatioin_std(batch_X, batch_y, mask=mask))"
   ]
  },
  {
   "cell_type": "code",
   "execution_count": 7,
   "metadata": {},
   "outputs": [
    {
     "data": {
      "text/plain": [
       "1.3877619504928589"
      ]
     },
     "execution_count": 7,
     "metadata": {},
     "output_type": "execute_result"
    }
   ],
   "source": [
    "float(loss_without_populatioin_std(batch_X, batch_y, mask=mask))"
   ]
  },
  {
   "cell_type": "code",
   "execution_count": null,
   "metadata": {},
   "outputs": [],
   "source": []
  },
  {
   "cell_type": "code",
   "execution_count": null,
   "metadata": {},
   "outputs": [],
   "source": []
  },
  {
   "cell_type": "code",
   "execution_count": 8,
   "metadata": {},
   "outputs": [
    {
     "data": {
      "text/plain": [
       "tensor([1.0119, 0.9762, 1.0003, 0.9929, 1.0172, 0.9886, 1.0076, 0.9972, 0.9628,\n",
       "        1.0399, 1.0193, 1.0191, 0.9970, 0.9990, 0.9877, 1.0130, 1.0084, 0.9936,\n",
       "        1.0133, 0.9975, 0.9618, 0.9958, 1.0002, 0.9737, 0.9630, 0.9966, 1.0149])"
      ]
     },
     "execution_count": 8,
     "metadata": {},
     "output_type": "execute_result"
    }
   ],
   "source": [
    "population_std"
   ]
  },
  {
   "cell_type": "code",
   "execution_count": 11,
   "metadata": {},
   "outputs": [
    {
     "data": {
      "text/plain": [
       "tensor([ 0.0000,  0.0000, -0.0000, -1.2544, -1.9488, -1.4081,  0.0000,  0.0000,\n",
       "        -2.0185, -0.8474, -0.4314,  0.7451, -0.6564, -0.0000, -0.6916,  1.5124,\n",
       "        -0.7502, -2.0825,  0.0000, -0.1168,  0.0000,  1.1331, -1.9027, -0.0000,\n",
       "        -0.0000, -0.5119, -0.8376])"
      ]
     },
     "execution_count": 11,
     "metadata": {},
     "output_type": "execute_result"
    }
   ],
   "source": [
    "batch_y[0, ...]"
   ]
  },
  {
   "cell_type": "code",
   "execution_count": 12,
   "metadata": {},
   "outputs": [
    {
     "data": {
      "text/plain": [
       "tensor([1., 1., 1., 0., 0., 0., 1., 1., 0., 0., 0., 0., 0., 1., 0., 0., 0., 0.,\n",
       "        1., 0., 1., 0., 0., 1., 1., 0., 0.])"
      ]
     },
     "execution_count": 12,
     "metadata": {},
     "output_type": "execute_result"
    }
   ],
   "source": [
    "mask[0, ...]"
   ]
  },
  {
   "cell_type": "code",
   "execution_count": null,
   "metadata": {},
   "outputs": [],
   "source": []
  }
 ],
 "metadata": {
  "kernelspec": {
   "display_name": "Python 3",
   "language": "python",
   "name": "python3"
  },
  "language_info": {
   "codemirror_mode": {
    "name": "ipython",
    "version": 3
   },
   "file_extension": ".py",
   "mimetype": "text/x-python",
   "name": "python",
   "nbconvert_exporter": "python",
   "pygments_lexer": "ipython3",
   "version": "3.7.6"
  }
 },
 "nbformat": 4,
 "nbformat_minor": 4
}
