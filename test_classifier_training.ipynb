{
 "cells": [
  {
   "cell_type": "code",
   "execution_count": 1,
   "metadata": {},
   "outputs": [],
   "source": [
    "import numpy as np \n",
    "import pandas as pd \n",
    "\n",
    "from src.utils import mkdir\n",
    "from src.logger import init_logger\n",
    "from src.builtin.estimators import TabNetClassifier\n",
    "from sklearn.datasets import load_breast_cancer"
   ]
  },
  {
   "cell_type": "markdown",
   "metadata": {},
   "source": [
    "## init logger"
   ]
  },
  {
   "cell_type": "code",
   "execution_count": 2,
   "metadata": {},
   "outputs": [],
   "source": [
    "logger_dir = 'logs'\n",
    "logger_name = 'TEST'\n",
    "level = 'INFO'\n",
    "\n",
    "logger = init_logger(logger_dir=logger_dir, logger_name=logger_name, level=level)"
   ]
  },
  {
   "cell_type": "markdown",
   "metadata": {},
   "source": [
    "## load data"
   ]
  },
  {
   "cell_type": "code",
   "execution_count": 3,
   "metadata": {},
   "outputs": [
    {
     "name": "stdout",
     "output_type": "stream",
     "text": [
      "(569, 30)\n",
      "(569,)\n"
     ]
    }
   ],
   "source": [
    "X, y = load_breast_cancer(return_X_y=True)\n",
    "\n",
    "print(X.shape)\n",
    "print(y.shape)"
   ]
  },
  {
   "cell_type": "markdown",
   "metadata": {},
   "source": [
    "## Build Model"
   ]
  },
  {
   "cell_type": "code",
   "execution_count": 4,
   "metadata": {},
   "outputs": [],
   "source": [
    "tabnet = TabNetClassifier(\n",
    "    input_dims=30, output_dims=[1], logger=logger\n",
    ")"
   ]
  },
  {
   "cell_type": "code",
   "execution_count": 5,
   "metadata": {},
   "outputs": [
    {
     "name": "stdout",
     "output_type": "stream",
     "text": [
      "[Errno 2] No such file or directory: 'zzzzz'\n"
     ]
    },
    {
     "name": "stderr",
     "output_type": "stream",
     "text": [
      "[2021-01-26 17:28:57,726][WARNING][TabNet] Failed to load model from zzzzz\n"
     ]
    },
    {
     "data": {
      "text/plain": [
       "TabNetClassifier(atten_dims=8, batch_size=1024, cate_dims=None,\n",
       "                 cate_embed_dims=1, cate_indices=None, gamma=1.3, input_dims=30,\n",
       "                 is_cuda=False, is_shuffle=True,\n",
       "                 logger=<RootLogger root (INFO)>, mask_type='sparsemax',\n",
       "                 momentum=0.03, num_indep=2, num_shared=2, num_steps=3,\n",
       "                 num_workers=4, output_dims=[1], pin_memory=True, reprs_dims=8,\n",
       "                 task_weights=1, virtual_batch_size=128)"
      ]
     },
     "execution_count": 5,
     "metadata": {},
     "output_type": "execute_result"
    }
   ],
   "source": [
    "tabnet.build(path='zzzzz')"
   ]
  },
  {
   "cell_type": "code",
   "execution_count": 6,
   "metadata": {},
   "outputs": [
    {
     "name": "stderr",
     "output_type": "stream",
     "text": [
      "[2021-01-26 17:28:57,749][WARNING][TabNet] use default optimizer\n",
      "[2021-01-26 17:28:57,750][WARNING][TabNet] use default optimizer params\n"
     ]
    },
    {
     "name": "stdout",
     "output_type": "stream",
     "text": [
      "<class 'type'>\n"
     ]
    },
    {
     "name": "stderr",
     "output_type": "stream",
     "text": [
      "[2021-01-26 17:28:57,756][INFO][TabNet] start training.\n",
      "[2021-01-26 17:28:57,758][INFO][TabNet] ******************** epoch : 1 ********************\n",
      "[2021-01-26 17:29:01,398][INFO][TabNet] -------------------- train info --------------------\n",
      "[2021-01-26 17:29:01,401][INFO][TabNet] total_loss : 0.8165675401687622\n",
      "[2021-01-26 17:29:01,402][INFO][TabNet] task_loss : 0.8153409063816071\n",
      "[2021-01-26 17:29:01,404][INFO][TabNet] mask_loss : -1.2266218662261963\n",
      "[2021-01-26 17:29:01,406][INFO][TabNet] time_cost : 0.1009972095489502\n",
      "[2021-01-26 17:29:01,407][INFO][TabNet] accuracy : 0.615234375\n",
      "[2021-01-26 17:29:01,409][INFO][TabNet] ******************** epoch : 2 ********************\n",
      "[2021-01-26 17:29:05,077][INFO][TabNet] -------------------- train info --------------------\n",
      "[2021-01-26 17:29:05,079][INFO][TabNet] total_loss : 0.8662974536418915\n",
      "[2021-01-26 17:29:05,080][INFO][TabNet] task_loss : 0.8650808036327362\n",
      "[2021-01-26 17:29:05,082][INFO][TabNet] mask_loss : -1.2166727781295776\n",
      "[2021-01-26 17:29:05,083][INFO][TabNet] time_cost : 0.11300230026245117\n",
      "[2021-01-26 17:29:05,085][INFO][TabNet] accuracy : 0.62109375\n",
      "[2021-01-26 17:29:05,087][INFO][TabNet] ******************** epoch : 3 ********************\n",
      "[2021-01-26 17:29:08,897][INFO][TabNet] -------------------- train info --------------------\n",
      "[2021-01-26 17:29:08,899][INFO][TabNet] total_loss : 0.817516416311264\n",
      "[2021-01-26 17:29:08,901][INFO][TabNet] task_loss : 0.8162835836410522\n",
      "[2021-01-26 17:29:08,903][INFO][TabNet] mask_loss : -1.2328376770019531\n",
      "[2021-01-26 17:29:08,905][INFO][TabNet] time_cost : 0.10200238227844238\n",
      "[2021-01-26 17:29:08,906][INFO][TabNet] accuracy : 0.634765625\n",
      "[2021-01-26 17:29:08,908][INFO][TabNet] ******************** epoch : 4 ********************\n",
      "[2021-01-26 17:29:12,509][INFO][TabNet] -------------------- train info --------------------\n",
      "[2021-01-26 17:29:12,511][INFO][TabNet] total_loss : 0.7628863453865051\n",
      "[2021-01-26 17:29:12,513][INFO][TabNet] task_loss : 0.7616766095161438\n",
      "[2021-01-26 17:29:12,514][INFO][TabNet] mask_loss : -1.2097424268722534\n",
      "[2021-01-26 17:29:12,516][INFO][TabNet] time_cost : 0.08899378776550293\n",
      "[2021-01-26 17:29:12,518][INFO][TabNet] accuracy : 0.640625\n",
      "[2021-01-26 17:29:12,520][INFO][TabNet] ******************** epoch : 5 ********************\n",
      "[2021-01-26 17:29:16,119][INFO][TabNet] -------------------- train info --------------------\n",
      "[2021-01-26 17:29:16,121][INFO][TabNet] total_loss : 0.7937685251235962\n",
      "[2021-01-26 17:29:16,122][INFO][TabNet] task_loss : 0.79256671667099\n",
      "[2021-01-26 17:29:16,124][INFO][TabNet] mask_loss : -1.2018253803253174\n",
      "[2021-01-26 17:29:16,126][INFO][TabNet] time_cost : 0.09899663925170898\n",
      "[2021-01-26 17:29:16,128][INFO][TabNet] accuracy : 0.626953125\n",
      "[2021-01-26 17:29:16,130][INFO][TabNet] ******************** epoch : 6 ********************\n",
      "[2021-01-26 17:29:19,759][INFO][TabNet] -------------------- train info --------------------\n",
      "[2021-01-26 17:29:19,761][INFO][TabNet] total_loss : 0.7702911794185638\n",
      "[2021-01-26 17:29:19,763][INFO][TabNet] task_loss : 0.7690875828266144\n",
      "[2021-01-26 17:29:19,765][INFO][TabNet] mask_loss : -1.203577995300293\n",
      "[2021-01-26 17:29:19,766][INFO][TabNet] time_cost : 0.09599733352661133\n",
      "[2021-01-26 17:29:19,768][INFO][TabNet] accuracy : 0.62890625\n",
      "[2021-01-26 17:29:19,770][INFO][TabNet] ******************** epoch : 7 ********************\n",
      "[2021-01-26 17:29:23,390][INFO][TabNet] -------------------- train info --------------------\n",
      "[2021-01-26 17:29:23,393][INFO][TabNet] total_loss : 0.7569738030433655\n",
      "[2021-01-26 17:29:23,394][INFO][TabNet] task_loss : 0.7557375729084015\n",
      "[2021-01-26 17:29:23,396][INFO][TabNet] mask_loss : -1.23621267080307\n",
      "[2021-01-26 17:29:23,398][INFO][TabNet] time_cost : 0.09099888801574707\n",
      "[2021-01-26 17:29:23,400][INFO][TabNet] accuracy : 0.646484375\n",
      "[2021-01-26 17:29:23,402][INFO][TabNet] ******************** epoch : 8 ********************\n",
      "[2021-01-26 17:29:27,034][INFO][TabNet] -------------------- train info --------------------\n",
      "[2021-01-26 17:29:27,036][INFO][TabNet] total_loss : 0.7309354841709137\n",
      "[2021-01-26 17:29:27,038][INFO][TabNet] task_loss : 0.7296978831291199\n",
      "[2021-01-26 17:29:27,039][INFO][TabNet] mask_loss : -1.2375963926315308\n",
      "[2021-01-26 17:29:27,041][INFO][TabNet] time_cost : 0.10699772834777832\n",
      "[2021-01-26 17:29:27,043][INFO][TabNet] accuracy : 0.6328125\n",
      "[2021-01-26 17:29:27,044][INFO][TabNet] ******************** epoch : 9 ********************\n",
      "[2021-01-26 17:29:30,652][INFO][TabNet] -------------------- train info --------------------\n",
      "[2021-01-26 17:29:30,654][INFO][TabNet] total_loss : 0.7470440566539764\n",
      "[2021-01-26 17:29:30,656][INFO][TabNet] task_loss : 0.74581578373909\n",
      "[2021-01-26 17:29:30,658][INFO][TabNet] mask_loss : -1.2282782793045044\n",
      "[2021-01-26 17:29:30,659][INFO][TabNet] time_cost : 0.09599447250366211\n",
      "[2021-01-26 17:29:30,661][INFO][TabNet] accuracy : 0.63671875\n",
      "[2021-01-26 17:29:30,663][INFO][TabNet] ******************** epoch : 10 ********************\n",
      "[2021-01-26 17:29:34,267][INFO][TabNet] -------------------- train info --------------------\n",
      "[2021-01-26 17:29:34,270][INFO][TabNet] total_loss : 0.7533391714096069\n",
      "[2021-01-26 17:29:34,272][INFO][TabNet] task_loss : 0.7521048486232758\n",
      "[2021-01-26 17:29:34,274][INFO][TabNet] mask_loss : -1.2343013286590576\n",
      "[2021-01-26 17:29:34,276][INFO][TabNet] time_cost : 0.08800268173217773\n",
      "[2021-01-26 17:29:34,278][INFO][TabNet] accuracy : 0.6328125\n",
      "[2021-01-26 17:29:34,280][INFO][TabNet] training complete.\n",
      "[2021-01-26 17:29:34,282][INFO][TabNet] ******************** Summary of training info ********************\n"
     ]
    }
   ],
   "source": [
    "tabnet.fit(X, y.reshape(-1, 1), batch_size=256, metrics=['acc'], max_epochs=10)"
   ]
  },
  {
   "cell_type": "code",
   "execution_count": 7,
   "metadata": {},
   "outputs": [
    {
     "name": "stdout",
     "output_type": "stream",
     "text": [
      "torch.Size([256, 30])\n",
      "{0: tensor([[0.7963, 0.0000, 0.0000,  ..., 0.0000, 0.0000, 0.0000],\n",
      "        [0.0000, 0.0000, 0.0000,  ..., 0.0000, 0.0000, 0.0000],\n",
      "        [0.0000, 0.0000, 0.0000,  ..., 0.0000, 0.0000, 0.0000],\n",
      "        ...,\n",
      "        [0.7745, 0.0000, 0.0000,  ..., 0.0000, 0.0000, 0.0000],\n",
      "        [0.0000, 0.0000, 0.0000,  ..., 0.0000, 0.0000, 0.0000],\n",
      "        [0.6207, 0.0000, 0.0000,  ..., 0.0000, 0.0000, 0.0000]]), 1: tensor([[0.0000, 0.0000, 0.0000,  ..., 0.0000, 0.0000, 0.0000],\n",
      "        [0.0000, 0.4729, 0.0000,  ..., 0.0000, 0.0000, 0.0000],\n",
      "        [0.0000, 0.0000, 0.0000,  ..., 0.0000, 0.0000, 0.0000],\n",
      "        ...,\n",
      "        [0.0000, 0.0000, 0.0000,  ..., 0.0000, 0.0000, 0.0000],\n",
      "        [0.1894, 0.0000, 0.2148,  ..., 0.0793, 0.0532, 0.0538],\n",
      "        [0.0000, 0.0000, 0.0000,  ..., 0.0000, 0.0000, 0.0000]]), 2: tensor([[0.0000, 0.0552, 0.0000,  ..., 0.0000, 0.0000, 0.0686],\n",
      "        [0.0000, 0.0000, 0.0000,  ..., 0.0000, 0.4343, 0.0000],\n",
      "        [0.1581, 0.0000, 0.0000,  ..., 0.0000, 0.0486, 0.0097],\n",
      "        ...,\n",
      "        [0.0080, 0.0000, 0.0000,  ..., 0.0000, 0.0503, 0.0191],\n",
      "        [0.0000, 0.0000, 0.0000,  ..., 0.0000, 0.0000, 0.0000],\n",
      "        [0.0353, 0.0000, 0.0000,  ..., 0.0000, 0.0541, 0.0200]])}\n",
      "torch.Size([256, 30])\n",
      "{0: tensor([[0.1484, 0.0000, 0.0000,  ..., 0.0000, 0.0000, 0.0000],\n",
      "        [0.0000, 0.0000, 0.0000,  ..., 0.0000, 0.0000, 0.0000],\n",
      "        [0.1826, 0.0000, 0.0000,  ..., 0.0000, 0.0000, 0.0000],\n",
      "        ...,\n",
      "        [0.0000, 0.0000, 0.0000,  ..., 0.0000, 0.0000, 0.0000],\n",
      "        [0.0000, 0.0000, 0.0000,  ..., 0.0000, 0.0000, 0.0000],\n",
      "        [0.5056, 0.0000, 0.0000,  ..., 0.0000, 0.0000, 0.0000]]), 1: tensor([[0.0185, 0.0000, 0.0000,  ..., 0.0000, 0.0654, 0.0000],\n",
      "        [0.0000, 0.4395, 0.0000,  ..., 0.0000, 0.0000, 0.0000],\n",
      "        [0.0000, 0.0000, 0.0000,  ..., 0.0000, 0.0000, 0.0000],\n",
      "        ...,\n",
      "        [0.0000, 0.0000, 0.0000,  ..., 0.0000, 0.0000, 0.0000],\n",
      "        [0.2646, 0.0000, 0.2890,  ..., 0.0262, 0.0000, 0.0000],\n",
      "        [0.0000, 0.0000, 0.0000,  ..., 0.0000, 0.0000, 0.0000]]), 2: tensor([[0.1009, 0.1174, 0.0000,  ..., 0.0000, 0.0000, 0.0000],\n",
      "        [0.0000, 0.0000, 0.0000,  ..., 0.0000, 0.5137, 0.0000],\n",
      "        [0.0000, 0.0000, 0.0000,  ..., 0.0000, 0.0072, 0.0000],\n",
      "        ...,\n",
      "        [0.1136, 0.0000, 0.0000,  ..., 0.0000, 0.0341, 0.0000],\n",
      "        [0.0000, 0.0000, 0.0000,  ..., 0.0000, 0.0000, 0.0000],\n",
      "        [0.0166, 0.0000, 0.0000,  ..., 0.0000, 0.0169, 0.0000]])}\n"
     ]
    }
   ],
   "source": [
    "tabnet.explain(X)"
   ]
  },
  {
   "cell_type": "code",
   "execution_count": 8,
   "metadata": {},
   "outputs": [],
   "source": [
    "from sklearn.ensemble import RandomForestClassifier\n",
    "from sklearn.metrics import accuracy_score "
   ]
  }
 ],
 "metadata": {
  "kernelspec": {
   "display_name": "Python 3",
   "language": "python",
   "name": "python3"
  },
  "language_info": {
   "codemirror_mode": {
    "name": "ipython",
    "version": 3
   },
   "file_extension": ".py",
   "mimetype": "text/x-python",
   "name": "python",
   "nbconvert_exporter": "python",
   "pygments_lexer": "ipython3",
   "version": "3.7.6"
  }
 },
 "nbformat": 4,
 "nbformat_minor": 4
}
