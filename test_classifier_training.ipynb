{
 "cells": [
  {
   "cell_type": "code",
   "execution_count": 1,
   "metadata": {},
   "outputs": [
    {
     "ename": "SyntaxError",
     "evalue": "invalid syntax (estimator_base.py, line 514)",
     "output_type": "error",
     "traceback": [
      "Traceback \u001b[1;36m(most recent call last)\u001b[0m:\n",
      "  File \u001b[0;32m\"C:\\Users\\TW300004580\\anaconda3\\envs\\demucs\\lib\\site-packages\\IPython\\core\\interactiveshell.py\"\u001b[0m, line \u001b[0;32m3417\u001b[0m, in \u001b[0;35mrun_code\u001b[0m\n    exec(code_obj, self.user_global_ns, self.user_ns)\n",
      "  File \u001b[0;32m\"<ipython-input-1-9f253152a6fa>\"\u001b[0m, line \u001b[0;32m6\u001b[0m, in \u001b[0;35m<module>\u001b[0m\n    from src.builtin.estimators import TabNetClassifier\n",
      "\u001b[1;36m  File \u001b[1;32m\"D:\\yiliu\\TabNet_Pytorch\\src\\builtin\\estimators.py\"\u001b[1;36m, line \u001b[1;32m6\u001b[1;36m, in \u001b[1;35m<module>\u001b[1;36m\u001b[0m\n\u001b[1;33m    from ..core.estimator_base import TabNetBase, PostProcessorBase\u001b[0m\n",
      "\u001b[1;36m  File \u001b[1;32m\"D:\\yiliu\\TabNet_Pytorch\\src\\core\\estimator_base.py\"\u001b[1;36m, line \u001b[1;32m514\u001b[0m\n\u001b[1;33m    if self._meters.get('eval').get('')\u001b[0m\n\u001b[1;37m                                       ^\u001b[0m\n\u001b[1;31mSyntaxError\u001b[0m\u001b[1;31m:\u001b[0m invalid syntax\n"
     ]
    }
   ],
   "source": [
    "import numpy as np \n",
    "import pandas as pd \n",
    "\n",
    "from src.utils import mkdir\n",
    "from src.logger import init_logger\n",
    "from src.builtin.estimators import TabNetClassifier\n",
    "from sklearn.datasets import load_breast_cancer"
   ]
  },
  {
   "cell_type": "markdown",
   "metadata": {},
   "source": [
    "## init logger"
   ]
  },
  {
   "cell_type": "code",
   "execution_count": null,
   "metadata": {},
   "outputs": [],
   "source": [
    "logger_dir = 'logs'\n",
    "logger_name = 'TEST'\n",
    "level = 'INFO'\n",
    "\n",
    "logger = init_logger(logger_dir=logger_dir, logger_name=logger_name, level=level)"
   ]
  },
  {
   "cell_type": "markdown",
   "metadata": {},
   "source": [
    "## load data"
   ]
  },
  {
   "cell_type": "code",
   "execution_count": null,
   "metadata": {},
   "outputs": [],
   "source": [
    "X, y = load_breast_cancer(return_X_y=True)\n",
    "\n",
    "print(X.shape)\n",
    "print(y.shape)"
   ]
  },
  {
   "cell_type": "markdown",
   "metadata": {},
   "source": [
    "## Build Model"
   ]
  },
  {
   "cell_type": "code",
   "execution_count": null,
   "metadata": {},
   "outputs": [],
   "source": [
    "tabnet = TabNetClassifier(\n",
    "    input_dims=30, output_dims=[1], logger=logger, is_cuda=True,\n",
    "    reprs_dims=4, atten_dims=4, num_steps=4, num_indep=2, num_shared=1\n",
    ")"
   ]
  },
  {
   "cell_type": "code",
   "execution_count": null,
   "metadata": {},
   "outputs": [],
   "source": [
    "tabnet.build(path='zzzzz')"
   ]
  },
  {
   "cell_type": "code",
   "execution_count": 2,
   "metadata": {},
   "outputs": [
    {
     "ename": "NameError",
     "evalue": "name 'tabnet' is not defined",
     "output_type": "error",
     "traceback": [
      "\u001b[1;31m---------------------------------------------------------------------------\u001b[0m",
      "\u001b[1;31mNameError\u001b[0m                                 Traceback (most recent call last)",
      "\u001b[1;32m<ipython-input-2-efe4afcd5385>\u001b[0m in \u001b[0;36m<module>\u001b[1;34m\u001b[0m\n\u001b[1;32m----> 1\u001b[1;33m \u001b[0mtabnet\u001b[0m\u001b[1;33m.\u001b[0m\u001b[0mfit\u001b[0m\u001b[1;33m(\u001b[0m\u001b[0mX\u001b[0m\u001b[1;33m,\u001b[0m \u001b[0my\u001b[0m\u001b[1;33m.\u001b[0m\u001b[0mreshape\u001b[0m\u001b[1;33m(\u001b[0m\u001b[1;33m-\u001b[0m\u001b[1;36m1\u001b[0m\u001b[1;33m,\u001b[0m \u001b[1;36m1\u001b[0m\u001b[1;33m)\u001b[0m\u001b[1;33m,\u001b[0m \u001b[0mbatch_size\u001b[0m\u001b[1;33m=\u001b[0m\u001b[1;36m512\u001b[0m\u001b[1;33m,\u001b[0m \u001b[0mmetrics\u001b[0m\u001b[1;33m=\u001b[0m\u001b[1;33m[\u001b[0m\u001b[1;34m'acc'\u001b[0m\u001b[1;33m]\u001b[0m\u001b[1;33m,\u001b[0m \u001b[0mmax_epochs\u001b[0m\u001b[1;33m=\u001b[0m\u001b[1;36m200\u001b[0m\u001b[1;33m)\u001b[0m\u001b[1;33m\u001b[0m\u001b[1;33m\u001b[0m\u001b[0m\n\u001b[0m",
      "\u001b[1;31mNameError\u001b[0m: name 'tabnet' is not defined"
     ]
    }
   ],
   "source": [
    "tabnet.fit(X, y.reshape(-1, 1), batch_size=512, metrics=['acc'], max_epochs=200)"
   ]
  },
  {
   "cell_type": "code",
   "execution_count": 7,
   "metadata": {},
   "outputs": [],
   "source": [
    "m_explain, masks = tabnet.explain(X)"
   ]
  },
  {
   "cell_type": "code",
   "execution_count": 8,
   "metadata": {},
   "outputs": [
    {
     "data": {
      "text/plain": [
       "torch.Size([512, 30])"
      ]
     },
     "execution_count": 8,
     "metadata": {},
     "output_type": "execute_result"
    }
   ],
   "source": [
    "m_explain.size()"
   ]
  },
  {
   "cell_type": "code",
   "execution_count": 9,
   "metadata": {},
   "outputs": [
    {
     "data": {
      "text/plain": [
       "tensor([0.0000, 0.0000, 0.1056, 0.0000, 0.0000, 0.0000, 0.0000, 2.2965, 0.1575,\n",
       "        0.0000, 0.0105, 0.1334, 0.0556, 0.0000, 0.0000, 0.0000, 0.1152, 0.3430,\n",
       "        0.6227, 0.0000, 0.0000, 0.0570, 1.0023, 0.0000, 0.0000, 0.0634, 0.3141,\n",
       "        0.0000, 0.0000, 0.0206], device='cuda:0')"
      ]
     },
     "execution_count": 9,
     "metadata": {},
     "output_type": "execute_result"
    }
   ],
   "source": [
    "m_explain[0, ...]"
   ]
  },
  {
   "cell_type": "code",
   "execution_count": 10,
   "metadata": {},
   "outputs": [
    {
     "data": {
      "text/plain": [
       "tensor([1.2728, 0.0000, 0.6932, 0.0000, 0.0000, 0.1962, 0.0000, 0.0000, 0.0000,\n",
       "        0.0000, 0.0000, 0.0000, 0.0000, 0.0000, 0.0000, 0.5814, 0.5406, 0.0000,\n",
       "        0.0000, 0.0000, 0.8675, 0.0000, 0.0000, 0.0000, 0.0000, 0.0000, 0.0000,\n",
       "        0.8407, 0.0000, 0.3546], device='cuda:0')"
      ]
     },
     "execution_count": 10,
     "metadata": {},
     "output_type": "execute_result"
    }
   ],
   "source": [
    "m_explain[1, ...]"
   ]
  },
  {
   "cell_type": "code",
   "execution_count": 11,
   "metadata": {},
   "outputs": [
    {
     "data": {
      "text/plain": [
       "tensor([0.5186, 0.0000, 0.1009, 0.0000, 0.3491, 0.0659, 0.0000, 2.0697, 0.2154,\n",
       "        0.0000, 0.0955, 0.3996, 0.0000, 0.2295, 0.0000, 0.0000, 0.0000, 0.0000,\n",
       "        0.0000, 0.0000, 0.0000, 0.0000, 0.6857, 0.1564, 0.7877, 0.0148, 0.3355,\n",
       "        0.0000, 0.0000, 0.0000], device='cuda:0')"
      ]
     },
     "execution_count": 11,
     "metadata": {},
     "output_type": "execute_result"
    }
   ],
   "source": [
    "m_explain[2, ...]"
   ]
  },
  {
   "cell_type": "code",
   "execution_count": 13,
   "metadata": {},
   "outputs": [
    {
     "name": "stderr",
     "output_type": "stream",
     "text": [
      "[2021-01-26 22:22:17,851][INFO]Generating new fontManager, this may take some time...\n"
     ]
    }
   ],
   "source": [
    "import matplotlib.pyplot as plt"
   ]
  },
  {
   "cell_type": "code",
   "execution_count": 35,
   "metadata": {},
   "outputs": [
    {
     "data": {
      "text/plain": [
       "Text(0.5, 1.0, 'importance')"
      ]
     },
     "execution_count": 35,
     "metadata": {},
     "output_type": "execute_result"
    },
    {
     "data": {
      "image/png": "[encoded data removed]",
      "text/plain": [
       "<Figure size 1080x1080 with 4 Axes>"
      ]
     },
     "metadata": {
      "needs_background": "light"
     },
     "output_type": "display_data"
    }
   ],
   "source": [
    "fig, axs = plt.subplots(4, 1, figsize=(15,15))\n",
    "\n",
    "for i in range(3):\n",
    "    axs[i].imshow(masks[i].cpu().numpy()[:30])\n",
    "    axs[i].set_xlabel('features')\n",
    "    axs[i].set_ylabel('samples')\n",
    "    axs[i].set_title(f\"mask {i}\")\n",
    "\n",
    "axs[3].imshow(m_explain.cpu().numpy()[:30, :])\n",
    "axs[3].set_xlabel('features')\n",
    "axs[3].set_ylabel('samples')\n",
    "axs[3].set_title('importance')"
   ]
  },
  {
   "cell_type": "code",
   "execution_count": 29,
   "metadata": {},
   "outputs": [
    {
     "data": {
      "text/plain": [
       "<matplotlib.image.AxesImage at 0x125810a6248>"
      ]
     },
     "execution_count": 29,
     "metadata": {},
     "output_type": "execute_result"
    },
    {
     "data": {
      "image/png": "[encoded data removed]",
      "text/plain": [
       "<Figure size 432x288 with 1 Axes>"
      ]
     },
     "metadata": {
      "needs_background": "light"
     },
     "output_type": "display_data"
    }
   ],
   "source": [
    "plt.imshow(m_explain.cpu().numpy()[:30, :])"
   ]
  },
  {
   "cell_type": "code",
   "execution_count": 16,
   "metadata": {},
   "outputs": [],
   "source": [
    "from scipy.sparse import csc_matrix\n",
    "import scipy"
   ]
  },
  {
   "cell_type": "code",
   "execution_count": 17,
   "metadata": {},
   "outputs": [
    {
     "ename": "NameError",
     "evalue": "name 'create_explain_matrix' is not defined",
     "output_type": "error",
     "traceback": [
      "\u001b[1;31m---------------------------------------------------------------------------\u001b[0m",
      "\u001b[1;31mNameError\u001b[0m                                 Traceback (most recent call last)",
      "\u001b[1;32m<ipython-input-17-bde0222dab6c>\u001b[0m in \u001b[0;36m<module>\u001b[1;34m\u001b[0m\n\u001b[1;32m----> 1\u001b[1;33m \u001b[0mcreate_explain_matrix\u001b[0m\u001b[1;33m(\u001b[0m\u001b[1;36m30\u001b[0m\u001b[1;33m,\u001b[0m \u001b[1;33m[\u001b[0m\u001b[1;33m]\u001b[0m\u001b[1;33m,\u001b[0m \u001b[1;33m[\u001b[0m\u001b[1;33m]\u001b[0m\u001b[1;33m,\u001b[0m \u001b[1;36m30\u001b[0m\u001b[1;33m)\u001b[0m\u001b[1;33m\u001b[0m\u001b[1;33m\u001b[0m\u001b[0m\n\u001b[0m",
      "\u001b[1;31mNameError\u001b[0m: name 'create_explain_matrix' is not defined"
     ]
    }
   ],
   "source": [
    "create_explain_matrix(30, [], [], 30)"
   ]
  },
  {
   "cell_type": "code",
   "execution_count": null,
   "metadata": {},
   "outputs": [],
   "source": [
    "def create_explain_matrix(input_dim, cat_emb_dim, cat_idxs, post_embed_dim):\n",
    "    \"\"\"\n",
    "    This is a computational trick.\n",
    "    In order to rapidly sum importances from same embeddings\n",
    "    to the initial index.\n",
    "    Parameters\n",
    "    ----------\n",
    "    input_dim : int\n",
    "        Initial input dim\n",
    "    cat_emb_dim : int or list of int\n",
    "        if int : size of embedding for all categorical feature\n",
    "        if list of int : size of embedding for each categorical feature\n",
    "    cat_idxs : list of int\n",
    "        Initial position of categorical features\n",
    "    post_embed_dim : int\n",
    "        Post embedding inputs dimension\n",
    "    Returns\n",
    "    -------\n",
    "    reducing_matrix : np.array\n",
    "        Matrix of dim (post_embed_dim, input_dim)  to performe reduce\n",
    "    \"\"\"\n",
    "\n",
    "    if isinstance(cat_emb_dim, int):\n",
    "        all_emb_impact = [cat_emb_dim - 1] * len(cat_idxs)\n",
    "    else:\n",
    "        all_emb_impact = [emb_dim - 1 for emb_dim in cat_emb_dim]\n",
    "\n",
    "    acc_emb = 0\n",
    "    nb_emb = 0\n",
    "    indices_trick = []\n",
    "    for i in range(input_dim):\n",
    "        if i not in cat_idxs:\n",
    "            indices_trick.append([i + acc_emb])\n",
    "        else:\n",
    "            indices_trick.append(\n",
    "                range(i + acc_emb, i + acc_emb + all_emb_impact[nb_emb] + 1)\n",
    "            )\n",
    "            acc_emb += all_emb_impact[nb_emb]\n",
    "            nb_emb += 1\n",
    "\n",
    "    reducing_matrix = np.zeros((post_embed_dim, input_dim))\n",
    "    for i, cols in enumerate(indices_trick):\n",
    "        reducing_matrix[cols, i] = 1\n",
    "\n",
    "    return scipy.sparse.csc_matrix(reducing_matrix)"
   ]
  },
  {
   "cell_type": "code",
   "execution_count": null,
   "metadata": {},
   "outputs": [],
   "source": []
  },
  {
   "cell_type": "code",
   "execution_count": null,
   "metadata": {},
   "outputs": [],
   "source": [
    "for key, value in masks.items():\n",
    "                masks[key] = csc_matrix.dot(\n",
    "                    value.cpu().detach().numpy(), self.reducing_matrix\n",
    "                )\n",
    "\n",
    "            res_explain.append(\n",
    "                csc_matrix.dot(M_explain.cpu().detach().numpy(), self.reducing_matrix)\n",
    "            )\n"
   ]
  },
  {
   "cell_type": "code",
   "execution_count": null,
   "metadata": {},
   "outputs": [],
   "source": [
    "tabnet.predict(X)[0].reshape(-1)"
   ]
  },
  {
   "cell_type": "code",
   "execution_count": null,
   "metadata": {},
   "outputs": [],
   "source": [
    "y"
   ]
  },
  {
   "cell_type": "code",
   "execution_count": null,
   "metadata": {},
   "outputs": [],
   "source": [
    "from sklearn.ensemble import RandomForestClassifier\n",
    "from sklearn.metrics import accuracy_score "
   ]
  }
 ],
 "metadata": {
  "kernelspec": {
   "display_name": "Python 3",
   "language": "python",
   "name": "python3"
  },
  "language_info": {
   "codemirror_mode": {
    "name": "ipython",
    "version": 3
   },
   "file_extension": ".py",
   "mimetype": "text/x-python",
   "name": "python",
   "nbconvert_exporter": "python",
   "pygments_lexer": "ipython3",
   "version": "3.7.6"
  }
 },
 "nbformat": 4,
 "nbformat_minor": 4
}
